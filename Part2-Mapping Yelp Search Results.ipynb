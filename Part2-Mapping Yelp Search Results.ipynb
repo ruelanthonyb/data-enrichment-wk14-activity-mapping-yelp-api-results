{
 "cells": [
  {
   "cell_type": "markdown",
   "id": "c6d4c9a7",
   "metadata": {
    "id": "8guYh-VR7nlX"
   },
   "source": [
    "# Part 2 - Mapping Yelp Search Results"
   ]
  },
  {
   "cell_type": "markdown",
   "id": "9be6e6c0",
   "metadata": {},
   "source": []
  },
  {
   "cell_type": "markdown",
   "id": "8f1dfbbf",
   "metadata": {},
   "source": [
    "## Obective"
   ]
  },
  {
   "cell_type": "markdown",
   "id": "37daea31",
   "metadata": {
    "id": "8guYh-VR7nlX"
   },
   "source": [
    "- For this CodeAlong, we will be working with the Yelp API results from last class. \n",
    "- You will load in the .csv.gz of your yelp results and prepare the data for visualization.\n",
    "- You will use Plotly Express to create an interactive map with all of the results."
   ]
  },
  {
   "cell_type": "markdown",
   "id": "0a02a2fd",
   "metadata": {
    "id": "8guYh-VR7nlX"
   },
   "source": [
    "## Tools You Will Use\n",
    "- Part 1:\n",
    "    - Yelp API:\n",
    "        - Getting Started: \n",
    "            - https://www.yelp.com/developers/documentation/v3/get_started\n",
    "\n",
    "    - `YelpAPI` python package\n",
    "        -  \"YelpAPI\": https://github.com/gfairchild/yelpapi\n",
    "- Part 2:\n",
    "\n",
    "    - Plotly Express: https://plotly.com/python/getting-started/\n",
    "        - With Mapbox API: https://www.mapbox.com/\n",
    "        - `px.scatter_mapbox` [Documentation](https://plotly.com/python/scattermapbox/): \n",
    "\n",
    "\n"
   ]
  },
  {
   "cell_type": "markdown",
   "id": "a3f15049",
   "metadata": {},
   "source": [
    "### Applying Code From\n",
    "- [Advanced Transformations with Pandas - Part 1](https://login.codingdojo.com/m/376/12529/88086)\n",
    "- [Advanced Transformations with Pandas - Part 2](https://login.codingdojo.com/m/376/12529/88088)"
   ]
  },
  {
   "cell_type": "markdown",
   "id": "745e757f",
   "metadata": {},
   "source": [
    "### Goal"
   ]
  },
  {
   "cell_type": "markdown",
   "id": "a27ea8f9",
   "metadata": {},
   "source": [
    "- We want to create a map with every restaurant plotted as a scatter plot with detailed information that appears when we hover over a business\n",
    "- We will use plotly express's `px.scatter_mapbox` function to accomplish this.\n",
    "    - https://plotly.com/python/scattermapbox/\n",
    "    \n",
    "    - We will need a Mapbox API token for some of the options:\n",
    "        - https://studio.mapbox.com/\n",
    "    "
   ]
  },
  {
   "cell_type": "markdown",
   "id": "8c50b2b6",
   "metadata": {},
   "source": [
    "# Loading Data from Part 1"
   ]
  },
  {
   "cell_type": "code",
   "execution_count": 1,
   "id": "ffa40ba8",
   "metadata": {},
   "outputs": [
    {
     "name": "stdout",
     "output_type": "stream",
     "text": [
      "Requirement already satisfied: plotly in c:\\users\\bandi\\anaconda3\\lib\\site-packages (5.9.0)\n",
      "Requirement already satisfied: tenacity>=6.2.0 in c:\\users\\bandi\\anaconda3\\lib\\site-packages (from plotly) (8.2.2)\n"
     ]
    }
   ],
   "source": [
    "## Plotly is not included in your dojo-env\n",
    "!pip install plotly"
   ]
  },
  {
   "cell_type": "code",
   "execution_count": 2,
   "id": "6c26b323",
   "metadata": {},
   "outputs": [],
   "source": [
    "# Standard Imports\n",
    "import numpy as np\n",
    "import pandas as pd\n",
    "import matplotlib.pyplot as plt\n",
    "import seaborn as sns\n",
    "\n",
    "import json\n",
    "\n",
    "## importing plotly \n",
    "import plotly.express as px"
   ]
  },
  {
   "cell_type": "code",
   "execution_count": 5,
   "id": "73f882e7",
   "metadata": {},
   "outputs": [
    {
     "data": {
      "text/html": [
       "<div>\n",
       "<style scoped>\n",
       "    .dataframe tbody tr th:only-of-type {\n",
       "        vertical-align: middle;\n",
       "    }\n",
       "\n",
       "    .dataframe tbody tr th {\n",
       "        vertical-align: top;\n",
       "    }\n",
       "\n",
       "    .dataframe thead th {\n",
       "        text-align: right;\n",
       "    }\n",
       "</style>\n",
       "<table border=\"1\" class=\"dataframe\">\n",
       "  <thead>\n",
       "    <tr style=\"text-align: right;\">\n",
       "      <th></th>\n",
       "      <th>id</th>\n",
       "      <th>alias</th>\n",
       "      <th>name</th>\n",
       "      <th>image_url</th>\n",
       "      <th>is_closed</th>\n",
       "      <th>url</th>\n",
       "      <th>review_count</th>\n",
       "      <th>categories</th>\n",
       "      <th>rating</th>\n",
       "      <th>coordinates</th>\n",
       "      <th>transactions</th>\n",
       "      <th>location</th>\n",
       "      <th>phone</th>\n",
       "      <th>display_phone</th>\n",
       "      <th>distance</th>\n",
       "      <th>price</th>\n",
       "    </tr>\n",
       "  </thead>\n",
       "  <tbody>\n",
       "    <tr>\n",
       "      <th>0</th>\n",
       "      <td>2jXS4oZkMhAONtd2j7L5Yg</td>\n",
       "      <td>chef-21-sushi-burger-and-korean-bbq-greenville-3</td>\n",
       "      <td>Chef 21 Sushi Burger &amp; Korean BBQ</td>\n",
       "      <td>https://s3-media4.fl.yelpcdn.com/bphoto/DbV4BU...</td>\n",
       "      <td>False</td>\n",
       "      <td>https://www.yelp.com/biz/chef-21-sushi-burger-...</td>\n",
       "      <td>37</td>\n",
       "      <td>[{'alias': 'korean', 'title': 'Korean'}, {'ali...</td>\n",
       "      <td>4.5</td>\n",
       "      <td>{'latitude': 34.847671, 'longitude': -82.394229}</td>\n",
       "      <td>['pickup', 'delivery']</td>\n",
       "      <td>{'address1': '500 E McBee Ave', 'address2': 'S...</td>\n",
       "      <td>1.864263e+10</td>\n",
       "      <td>(864) 263-3018</td>\n",
       "      <td>3341.861901</td>\n",
       "      <td>NaN</td>\n",
       "    </tr>\n",
       "    <tr>\n",
       "      <th>1</th>\n",
       "      <td>RGRk1ioORwm_FIX8PM732Q</td>\n",
       "      <td>konnichiwa-greenville</td>\n",
       "      <td>Konnichiwa</td>\n",
       "      <td>https://s3-media3.fl.yelpcdn.com/bphoto/p47H0_...</td>\n",
       "      <td>False</td>\n",
       "      <td>https://www.yelp.com/biz/konnichiwa-greenville...</td>\n",
       "      <td>70</td>\n",
       "      <td>[{'alias': 'sushi', 'title': 'Sushi Bars'}, {'...</td>\n",
       "      <td>4.1</td>\n",
       "      <td>{'latitude': 34.845952342825115, 'longitude': ...</td>\n",
       "      <td>[]</td>\n",
       "      <td>{'address1': '101 Falls Park Dr', 'address2': ...</td>\n",
       "      <td>1.864252e+10</td>\n",
       "      <td>(864) 252-4436</td>\n",
       "      <td>4184.255183</td>\n",
       "      <td>NaN</td>\n",
       "    </tr>\n",
       "    <tr>\n",
       "      <th>2</th>\n",
       "      <td>7cJxOV-ANX1qLThK3yV96w</td>\n",
       "      <td>otto-izakaya-greenville-4</td>\n",
       "      <td>Otto Izakaya</td>\n",
       "      <td>https://s3-media1.fl.yelpcdn.com/bphoto/TdPhFy...</td>\n",
       "      <td>False</td>\n",
       "      <td>https://www.yelp.com/biz/otto-izakaya-greenvil...</td>\n",
       "      <td>448</td>\n",
       "      <td>[{'alias': 'japanese', 'title': 'Japanese'}, {...</td>\n",
       "      <td>4.2</td>\n",
       "      <td>{'latitude': 34.8228218820722, 'longitude': -8...</td>\n",
       "      <td>['delivery']</td>\n",
       "      <td>{'address1': '15 Market Point Dr', 'address2':...</td>\n",
       "      <td>1.864569e+10</td>\n",
       "      <td>(864) 568-8009</td>\n",
       "      <td>5933.485357</td>\n",
       "      <td>$$</td>\n",
       "    </tr>\n",
       "    <tr>\n",
       "      <th>3</th>\n",
       "      <td>zG_XOAFi9Y560WJ1RvghBw</td>\n",
       "      <td>sushi-masa-japanese-restaurant-greenville</td>\n",
       "      <td>Sushi-Masa Japanese Restaurant</td>\n",
       "      <td>https://s3-media1.fl.yelpcdn.com/bphoto/zsRavZ...</td>\n",
       "      <td>False</td>\n",
       "      <td>https://www.yelp.com/biz/sushi-masa-japanese-r...</td>\n",
       "      <td>163</td>\n",
       "      <td>[{'alias': 'sushi', 'title': 'Sushi Bars'}]</td>\n",
       "      <td>4.4</td>\n",
       "      <td>{'latitude': 34.8512725830078, 'longitude': -8...</td>\n",
       "      <td>['delivery']</td>\n",
       "      <td>{'address1': '8590 Pelham Rd', 'address2': 'St...</td>\n",
       "      <td>1.864288e+10</td>\n",
       "      <td>(864) 288-2227</td>\n",
       "      <td>11481.830881</td>\n",
       "      <td>$$</td>\n",
       "    </tr>\n",
       "    <tr>\n",
       "      <th>4</th>\n",
       "      <td>Kx1x7Kf6C2gtogQErWSu0A</td>\n",
       "      <td>o-ku-greenville</td>\n",
       "      <td>O-Ku</td>\n",
       "      <td>https://s3-media2.fl.yelpcdn.com/bphoto/7dR0xy...</td>\n",
       "      <td>False</td>\n",
       "      <td>https://www.yelp.com/biz/o-ku-greenville?adjus...</td>\n",
       "      <td>41</td>\n",
       "      <td>[{'alias': 'sushi', 'title': 'Sushi Bars'}, {'...</td>\n",
       "      <td>3.9</td>\n",
       "      <td>{'latitude': 34.847954222223294, 'longitude': ...</td>\n",
       "      <td>[]</td>\n",
       "      <td>{'address1': '30 W Broad St', 'address2': None...</td>\n",
       "      <td>1.864326e+10</td>\n",
       "      <td>(864) 326-4812</td>\n",
       "      <td>3931.009612</td>\n",
       "      <td>NaN</td>\n",
       "    </tr>\n",
       "  </tbody>\n",
       "</table>\n",
       "</div>"
      ],
      "text/plain": [
       "                       id                                             alias  \\\n",
       "0  2jXS4oZkMhAONtd2j7L5Yg  chef-21-sushi-burger-and-korean-bbq-greenville-3   \n",
       "1  RGRk1ioORwm_FIX8PM732Q                             konnichiwa-greenville   \n",
       "2  7cJxOV-ANX1qLThK3yV96w                         otto-izakaya-greenville-4   \n",
       "3  zG_XOAFi9Y560WJ1RvghBw         sushi-masa-japanese-restaurant-greenville   \n",
       "4  Kx1x7Kf6C2gtogQErWSu0A                                   o-ku-greenville   \n",
       "\n",
       "                                name  \\\n",
       "0  Chef 21 Sushi Burger & Korean BBQ   \n",
       "1                         Konnichiwa   \n",
       "2                       Otto Izakaya   \n",
       "3     Sushi-Masa Japanese Restaurant   \n",
       "4                               O-Ku   \n",
       "\n",
       "                                           image_url  is_closed  \\\n",
       "0  https://s3-media4.fl.yelpcdn.com/bphoto/DbV4BU...      False   \n",
       "1  https://s3-media3.fl.yelpcdn.com/bphoto/p47H0_...      False   \n",
       "2  https://s3-media1.fl.yelpcdn.com/bphoto/TdPhFy...      False   \n",
       "3  https://s3-media1.fl.yelpcdn.com/bphoto/zsRavZ...      False   \n",
       "4  https://s3-media2.fl.yelpcdn.com/bphoto/7dR0xy...      False   \n",
       "\n",
       "                                                 url  review_count  \\\n",
       "0  https://www.yelp.com/biz/chef-21-sushi-burger-...            37   \n",
       "1  https://www.yelp.com/biz/konnichiwa-greenville...            70   \n",
       "2  https://www.yelp.com/biz/otto-izakaya-greenvil...           448   \n",
       "3  https://www.yelp.com/biz/sushi-masa-japanese-r...           163   \n",
       "4  https://www.yelp.com/biz/o-ku-greenville?adjus...            41   \n",
       "\n",
       "                                          categories  rating  \\\n",
       "0  [{'alias': 'korean', 'title': 'Korean'}, {'ali...     4.5   \n",
       "1  [{'alias': 'sushi', 'title': 'Sushi Bars'}, {'...     4.1   \n",
       "2  [{'alias': 'japanese', 'title': 'Japanese'}, {...     4.2   \n",
       "3        [{'alias': 'sushi', 'title': 'Sushi Bars'}]     4.4   \n",
       "4  [{'alias': 'sushi', 'title': 'Sushi Bars'}, {'...     3.9   \n",
       "\n",
       "                                         coordinates            transactions  \\\n",
       "0   {'latitude': 34.847671, 'longitude': -82.394229}  ['pickup', 'delivery']   \n",
       "1  {'latitude': 34.845952342825115, 'longitude': ...                      []   \n",
       "2  {'latitude': 34.8228218820722, 'longitude': -8...            ['delivery']   \n",
       "3  {'latitude': 34.8512725830078, 'longitude': -8...            ['delivery']   \n",
       "4  {'latitude': 34.847954222223294, 'longitude': ...                      []   \n",
       "\n",
       "                                            location         phone  \\\n",
       "0  {'address1': '500 E McBee Ave', 'address2': 'S...  1.864263e+10   \n",
       "1  {'address1': '101 Falls Park Dr', 'address2': ...  1.864252e+10   \n",
       "2  {'address1': '15 Market Point Dr', 'address2':...  1.864569e+10   \n",
       "3  {'address1': '8590 Pelham Rd', 'address2': 'St...  1.864288e+10   \n",
       "4  {'address1': '30 W Broad St', 'address2': None...  1.864326e+10   \n",
       "\n",
       "    display_phone      distance price  \n",
       "0  (864) 263-3018   3341.861901   NaN  \n",
       "1  (864) 252-4436   4184.255183   NaN  \n",
       "2  (864) 568-8009   5933.485357    $$  \n",
       "3  (864) 288-2227  11481.830881    $$  \n",
       "4  (864) 326-4812   3931.009612   NaN  "
      ]
     },
     "execution_count": 5,
     "metadata": {},
     "output_type": "execute_result"
    }
   ],
   "source": [
    "## Load in csv.gz\n",
    "file = 'Data/final_results_SC_Sushi.csv.gz'\n",
    "\n",
    "# create a dataframe from the file\n",
    "df = pd.read_csv(file, compression = 'gzip')\n",
    "\n",
    "# check the dataframe\n",
    "df.head()"
   ]
  },
  {
   "cell_type": "markdown",
   "id": "182d9a50",
   "metadata": {},
   "source": [
    "## Required Preprocessing "
   ]
  },
  {
   "cell_type": "markdown",
   "id": "9db8a265",
   "metadata": {},
   "source": [
    "- 1. We need to get the latitude and longitude for each business as separate columns.\n",
    "- We also want to be able to show the restaurants:\n",
    "    - name,\n",
    "    - price range\n",
    "    - address\n",
    "    - and if they do delivery or takeout."
   ]
  },
  {
   "cell_type": "markdown",
   "id": "13d541ac",
   "metadata": {},
   "source": [
    "### Separating Latitude and Longitude"
   ]
  },
  {
   "cell_type": "code",
   "execution_count": 6,
   "id": "825c85f0",
   "metadata": {},
   "outputs": [
    {
     "data": {
      "text/html": [
       "<div>\n",
       "<style scoped>\n",
       "    .dataframe tbody tr th:only-of-type {\n",
       "        vertical-align: middle;\n",
       "    }\n",
       "\n",
       "    .dataframe tbody tr th {\n",
       "        vertical-align: top;\n",
       "    }\n",
       "\n",
       "    .dataframe thead th {\n",
       "        text-align: right;\n",
       "    }\n",
       "</style>\n",
       "<table border=\"1\" class=\"dataframe\">\n",
       "  <thead>\n",
       "    <tr style=\"text-align: right;\">\n",
       "      <th></th>\n",
       "      <th>0</th>\n",
       "    </tr>\n",
       "  </thead>\n",
       "  <tbody>\n",
       "    <tr>\n",
       "      <th>0</th>\n",
       "      <td>{'latitude': 34.847671, 'longitude': -82.394229}</td>\n",
       "    </tr>\n",
       "    <tr>\n",
       "      <th>1</th>\n",
       "      <td>{'latitude': 34.845952342825115, 'longitude': ...</td>\n",
       "    </tr>\n",
       "    <tr>\n",
       "      <th>2</th>\n",
       "      <td>{'latitude': 34.8228218820722, 'longitude': -8...</td>\n",
       "    </tr>\n",
       "    <tr>\n",
       "      <th>3</th>\n",
       "      <td>{'latitude': 34.8512725830078, 'longitude': -8...</td>\n",
       "    </tr>\n",
       "    <tr>\n",
       "      <th>4</th>\n",
       "      <td>{'latitude': 34.847954222223294, 'longitude': ...</td>\n",
       "    </tr>\n",
       "    <tr>\n",
       "      <th>...</th>\n",
       "      <td>...</td>\n",
       "    </tr>\n",
       "    <tr>\n",
       "      <th>105</th>\n",
       "      <td>{'latitude': 34.86810664795167, 'longitude': -...</td>\n",
       "    </tr>\n",
       "    <tr>\n",
       "      <th>106</th>\n",
       "      <td>{'latitude': 34.8499166, 'longitude': -82.3335...</td>\n",
       "    </tr>\n",
       "    <tr>\n",
       "      <th>107</th>\n",
       "      <td>{'latitude': 34.8279736, 'longitude': -82.3987...</td>\n",
       "    </tr>\n",
       "    <tr>\n",
       "      <th>108</th>\n",
       "      <td>{'latitude': 34.8715143081717, 'longitude': -8...</td>\n",
       "    </tr>\n",
       "    <tr>\n",
       "      <th>109</th>\n",
       "      <td>{'latitude': 34.780454197801, 'longitude': -82...</td>\n",
       "    </tr>\n",
       "  </tbody>\n",
       "</table>\n",
       "<p>110 rows × 1 columns</p>\n",
       "</div>"
      ],
      "text/plain": [
       "                                                     0\n",
       "0     {'latitude': 34.847671, 'longitude': -82.394229}\n",
       "1    {'latitude': 34.845952342825115, 'longitude': ...\n",
       "2    {'latitude': 34.8228218820722, 'longitude': -8...\n",
       "3    {'latitude': 34.8512725830078, 'longitude': -8...\n",
       "4    {'latitude': 34.847954222223294, 'longitude': ...\n",
       "..                                                 ...\n",
       "105  {'latitude': 34.86810664795167, 'longitude': -...\n",
       "106  {'latitude': 34.8499166, 'longitude': -82.3335...\n",
       "107  {'latitude': 34.8279736, 'longitude': -82.3987...\n",
       "108  {'latitude': 34.8715143081717, 'longitude': -8...\n",
       "109  {'latitude': 34.780454197801, 'longitude': -82...\n",
       "\n",
       "[110 rows x 1 columns]"
      ]
     },
     "execution_count": 6,
     "metadata": {},
     "output_type": "execute_result"
    }
   ],
   "source": [
    "## use .apply pd.Series to convert a dict to columns\n",
    "df['coordinates'].apply(pd.Series)"
   ]
  },
  {
   "cell_type": "markdown",
   "id": "faecca22",
   "metadata": {},
   "source": [
    "- Why didn't that work???"
   ]
  },
  {
   "cell_type": "code",
   "execution_count": 7,
   "id": "19d70f54",
   "metadata": {},
   "outputs": [],
   "source": [
    "# separate lat and long from the coordinates col\n",
    "df[['latitude', 'longitude']] = df['coordinates'].str.split(',', expand = True)"
   ]
  },
  {
   "cell_type": "code",
   "execution_count": 8,
   "id": "4c52b779",
   "metadata": {},
   "outputs": [
    {
     "data": {
      "text/plain": [
       "\"{'latitude': 34.847671, 'longitude': -82.394229}\""
      ]
     },
     "execution_count": 8,
     "metadata": {},
     "output_type": "execute_result"
    }
   ],
   "source": [
    "## slice out a single test coordinate\n",
    "coord = df.loc[0, 'coordinates']\n",
    "coord"
   ]
  },
  {
   "cell_type": "markdown",
   "id": "819d8252",
   "metadata": {},
   "source": [
    "- Its not a dictionary anymore!!! WTF??\n",
    "    - CSV files cant store iterables (lists, dictionaries) so they get converted to strings."
   ]
  },
  {
   "cell_type": "markdown",
   "id": "df7e7c71",
   "metadata": {},
   "source": [
    "### Fixing the String-Dictionaries"
   ]
  },
  {
   "cell_type": "markdown",
   "id": "76185b76",
   "metadata": {},
   "source": [
    "- The json module has another version of load and dump called `json.loads` and `json.dumps`\n",
    "    - These are designed to process STRINGS instead of files. \n",
    "    \n",
    "- If we use `json.loads` we can convert our string dictionary into an actual dictionary. "
   ]
  },
  {
   "cell_type": "code",
   "execution_count": 10,
   "id": "8e4ab9ed",
   "metadata": {
    "scrolled": true
   },
   "outputs": [
    {
     "ename": "JSONDecodeError",
     "evalue": "Expecting property name enclosed in double quotes: line 1 column 2 (char 1)",
     "output_type": "error",
     "traceback": [
      "\u001b[1;31m---------------------------------------------------------------------------\u001b[0m",
      "\u001b[1;31mJSONDecodeError\u001b[0m                           Traceback (most recent call last)",
      "Cell \u001b[1;32mIn[10], line 2\u001b[0m\n\u001b[0;32m      1\u001b[0m \u001b[38;5;66;03m## Use json.loads on the test coordinate\u001b[39;00m\n\u001b[1;32m----> 2\u001b[0m parsed_coord \u001b[38;5;241m=\u001b[39m json\u001b[38;5;241m.\u001b[39mloads(coord)\n",
      "File \u001b[1;32m~\\anaconda3\\Lib\\json\\__init__.py:346\u001b[0m, in \u001b[0;36mloads\u001b[1;34m(s, cls, object_hook, parse_float, parse_int, parse_constant, object_pairs_hook, **kw)\u001b[0m\n\u001b[0;32m    341\u001b[0m     s \u001b[38;5;241m=\u001b[39m s\u001b[38;5;241m.\u001b[39mdecode(detect_encoding(s), \u001b[38;5;124m'\u001b[39m\u001b[38;5;124msurrogatepass\u001b[39m\u001b[38;5;124m'\u001b[39m)\n\u001b[0;32m    343\u001b[0m \u001b[38;5;28;01mif\u001b[39;00m (\u001b[38;5;28mcls\u001b[39m \u001b[38;5;129;01mis\u001b[39;00m \u001b[38;5;28;01mNone\u001b[39;00m \u001b[38;5;129;01mand\u001b[39;00m object_hook \u001b[38;5;129;01mis\u001b[39;00m \u001b[38;5;28;01mNone\u001b[39;00m \u001b[38;5;129;01mand\u001b[39;00m\n\u001b[0;32m    344\u001b[0m         parse_int \u001b[38;5;129;01mis\u001b[39;00m \u001b[38;5;28;01mNone\u001b[39;00m \u001b[38;5;129;01mand\u001b[39;00m parse_float \u001b[38;5;129;01mis\u001b[39;00m \u001b[38;5;28;01mNone\u001b[39;00m \u001b[38;5;129;01mand\u001b[39;00m\n\u001b[0;32m    345\u001b[0m         parse_constant \u001b[38;5;129;01mis\u001b[39;00m \u001b[38;5;28;01mNone\u001b[39;00m \u001b[38;5;129;01mand\u001b[39;00m object_pairs_hook \u001b[38;5;129;01mis\u001b[39;00m \u001b[38;5;28;01mNone\u001b[39;00m \u001b[38;5;129;01mand\u001b[39;00m \u001b[38;5;129;01mnot\u001b[39;00m kw):\n\u001b[1;32m--> 346\u001b[0m     \u001b[38;5;28;01mreturn\u001b[39;00m _default_decoder\u001b[38;5;241m.\u001b[39mdecode(s)\n\u001b[0;32m    347\u001b[0m \u001b[38;5;28;01mif\u001b[39;00m \u001b[38;5;28mcls\u001b[39m \u001b[38;5;129;01mis\u001b[39;00m \u001b[38;5;28;01mNone\u001b[39;00m:\n\u001b[0;32m    348\u001b[0m     \u001b[38;5;28mcls\u001b[39m \u001b[38;5;241m=\u001b[39m JSONDecoder\n",
      "File \u001b[1;32m~\\anaconda3\\Lib\\json\\decoder.py:337\u001b[0m, in \u001b[0;36mJSONDecoder.decode\u001b[1;34m(self, s, _w)\u001b[0m\n\u001b[0;32m    332\u001b[0m \u001b[38;5;28;01mdef\u001b[39;00m \u001b[38;5;21mdecode\u001b[39m(\u001b[38;5;28mself\u001b[39m, s, _w\u001b[38;5;241m=\u001b[39mWHITESPACE\u001b[38;5;241m.\u001b[39mmatch):\n\u001b[0;32m    333\u001b[0m \u001b[38;5;250m    \u001b[39m\u001b[38;5;124;03m\"\"\"Return the Python representation of ``s`` (a ``str`` instance\u001b[39;00m\n\u001b[0;32m    334\u001b[0m \u001b[38;5;124;03m    containing a JSON document).\u001b[39;00m\n\u001b[0;32m    335\u001b[0m \n\u001b[0;32m    336\u001b[0m \u001b[38;5;124;03m    \"\"\"\u001b[39;00m\n\u001b[1;32m--> 337\u001b[0m     obj, end \u001b[38;5;241m=\u001b[39m \u001b[38;5;28mself\u001b[39m\u001b[38;5;241m.\u001b[39mraw_decode(s, idx\u001b[38;5;241m=\u001b[39m_w(s, \u001b[38;5;241m0\u001b[39m)\u001b[38;5;241m.\u001b[39mend())\n\u001b[0;32m    338\u001b[0m     end \u001b[38;5;241m=\u001b[39m _w(s, end)\u001b[38;5;241m.\u001b[39mend()\n\u001b[0;32m    339\u001b[0m     \u001b[38;5;28;01mif\u001b[39;00m end \u001b[38;5;241m!=\u001b[39m \u001b[38;5;28mlen\u001b[39m(s):\n",
      "File \u001b[1;32m~\\anaconda3\\Lib\\json\\decoder.py:353\u001b[0m, in \u001b[0;36mJSONDecoder.raw_decode\u001b[1;34m(self, s, idx)\u001b[0m\n\u001b[0;32m    344\u001b[0m \u001b[38;5;250m\u001b[39m\u001b[38;5;124;03m\"\"\"Decode a JSON document from ``s`` (a ``str`` beginning with\u001b[39;00m\n\u001b[0;32m    345\u001b[0m \u001b[38;5;124;03ma JSON document) and return a 2-tuple of the Python\u001b[39;00m\n\u001b[0;32m    346\u001b[0m \u001b[38;5;124;03mrepresentation and the index in ``s`` where the document ended.\u001b[39;00m\n\u001b[1;32m   (...)\u001b[0m\n\u001b[0;32m    350\u001b[0m \n\u001b[0;32m    351\u001b[0m \u001b[38;5;124;03m\"\"\"\u001b[39;00m\n\u001b[0;32m    352\u001b[0m \u001b[38;5;28;01mtry\u001b[39;00m:\n\u001b[1;32m--> 353\u001b[0m     obj, end \u001b[38;5;241m=\u001b[39m \u001b[38;5;28mself\u001b[39m\u001b[38;5;241m.\u001b[39mscan_once(s, idx)\n\u001b[0;32m    354\u001b[0m \u001b[38;5;28;01mexcept\u001b[39;00m \u001b[38;5;167;01mStopIteration\u001b[39;00m \u001b[38;5;28;01mas\u001b[39;00m err:\n\u001b[0;32m    355\u001b[0m     \u001b[38;5;28;01mraise\u001b[39;00m JSONDecodeError(\u001b[38;5;124m\"\u001b[39m\u001b[38;5;124mExpecting value\u001b[39m\u001b[38;5;124m\"\u001b[39m, s, err\u001b[38;5;241m.\u001b[39mvalue) \u001b[38;5;28;01mfrom\u001b[39;00m \u001b[38;5;28;01mNone\u001b[39;00m\n",
      "\u001b[1;31mJSONDecodeError\u001b[0m: Expecting property name enclosed in double quotes: line 1 column 2 (char 1)"
     ]
    }
   ],
   "source": [
    "## Use json.loads on the test coordinate\n",
    "parsed_coord = json.loads(coord)"
   ]
  },
  {
   "cell_type": "markdown",
   "id": "89771042",
   "metadata": {},
   "source": [
    "- JSON requires double quotes!"
   ]
  },
  {
   "cell_type": "code",
   "execution_count": 11,
   "id": "25a459c3",
   "metadata": {},
   "outputs": [
    {
     "data": {
      "text/plain": [
       "'{\"latitude\": 34.847671, \"longitude\": -82.394229}'"
      ]
     },
     "execution_count": 11,
     "metadata": {},
     "output_type": "execute_result"
    }
   ],
   "source": [
    "## replace single ' with \" \n",
    "# df['coordinates'] = df['coordinates'].str.replace(\"'\", '\"')\n",
    "coord = coord.replace(\"'\", '\"')\n",
    "coord"
   ]
  },
  {
   "cell_type": "code",
   "execution_count": 12,
   "id": "baf7b4ce",
   "metadata": {},
   "outputs": [
    {
     "data": {
      "text/plain": [
       "{'latitude': 34.847671, 'longitude': -82.394229}"
      ]
     },
     "execution_count": 12,
     "metadata": {},
     "output_type": "execute_result"
    }
   ],
   "source": [
    "## Use json.loads on the test coordinate, again\n",
    "fixed_coord = json.loads(coord)\n",
    "fixed_coord"
   ]
  },
  {
   "cell_type": "markdown",
   "id": "ac9a2c61",
   "metadata": {},
   "source": [
    "### Now, how can we apply this same process to the entire column??"
   ]
  },
  {
   "cell_type": "code",
   "execution_count": 13,
   "id": "815d26be",
   "metadata": {},
   "outputs": [
    {
     "data": {
      "text/plain": [
       "0     {'latitude': 34.847671, 'longitude': -82.394229}\n",
       "1    {'latitude': 34.845952342825115, 'longitude': ...\n",
       "2    {'latitude': 34.8228218820722, 'longitude': -8...\n",
       "3    {'latitude': 34.8512725830078, 'longitude': -8...\n",
       "4    {'latitude': 34.847954222223294, 'longitude': ...\n",
       "Name: coordinates, dtype: object"
      ]
     },
     "execution_count": 13,
     "metadata": {},
     "output_type": "execute_result"
    }
   ],
   "source": [
    "## replace ' with \" (entire column)\n",
    "df['coordinates'] = df['coordinates'].str.replace(\"'\", '\"')\n",
    "\n",
    "## apply json.loads\n",
    "df['coordinates'] = df['coordinates'].apply(json.loads)\n",
    "\n",
    "df['coordinates'].head()"
   ]
  },
  {
   "cell_type": "code",
   "execution_count": 14,
   "id": "b417c990",
   "metadata": {},
   "outputs": [
    {
     "data": {
      "text/plain": [
       "{'latitude': 34.847671, 'longitude': -82.394229}"
      ]
     },
     "execution_count": 14,
     "metadata": {},
     "output_type": "execute_result"
    }
   ],
   "source": [
    "## slice out a single test coordinate\n",
    "test_coord = df.loc[0, 'coordinates']\n",
    "test_coord"
   ]
  },
  {
   "cell_type": "markdown",
   "id": "a825c2f4",
   "metadata": {},
   "source": [
    "### Using Apply with pd.Series to convert a dictionary column into multiple columns"
   ]
  },
  {
   "cell_type": "code",
   "execution_count": 15,
   "id": "9b06ad2c",
   "metadata": {},
   "outputs": [
    {
     "data": {
      "text/html": [
       "<div>\n",
       "<style scoped>\n",
       "    .dataframe tbody tr th:only-of-type {\n",
       "        vertical-align: middle;\n",
       "    }\n",
       "\n",
       "    .dataframe tbody tr th {\n",
       "        vertical-align: top;\n",
       "    }\n",
       "\n",
       "    .dataframe thead th {\n",
       "        text-align: right;\n",
       "    }\n",
       "</style>\n",
       "<table border=\"1\" class=\"dataframe\">\n",
       "  <thead>\n",
       "    <tr style=\"text-align: right;\">\n",
       "      <th></th>\n",
       "      <th>id</th>\n",
       "      <th>alias</th>\n",
       "      <th>name</th>\n",
       "      <th>image_url</th>\n",
       "      <th>is_closed</th>\n",
       "      <th>url</th>\n",
       "      <th>review_count</th>\n",
       "      <th>categories</th>\n",
       "      <th>rating</th>\n",
       "      <th>coordinates</th>\n",
       "      <th>transactions</th>\n",
       "      <th>location</th>\n",
       "      <th>phone</th>\n",
       "      <th>display_phone</th>\n",
       "      <th>distance</th>\n",
       "      <th>price</th>\n",
       "      <th>latitude</th>\n",
       "      <th>longitude</th>\n",
       "      <th>latitude</th>\n",
       "      <th>longitude</th>\n",
       "    </tr>\n",
       "  </thead>\n",
       "  <tbody>\n",
       "    <tr>\n",
       "      <th>0</th>\n",
       "      <td>2jXS4oZkMhAONtd2j7L5Yg</td>\n",
       "      <td>chef-21-sushi-burger-and-korean-bbq-greenville-3</td>\n",
       "      <td>Chef 21 Sushi Burger &amp; Korean BBQ</td>\n",
       "      <td>https://s3-media4.fl.yelpcdn.com/bphoto/DbV4BU...</td>\n",
       "      <td>False</td>\n",
       "      <td>https://www.yelp.com/biz/chef-21-sushi-burger-...</td>\n",
       "      <td>37</td>\n",
       "      <td>[{'alias': 'korean', 'title': 'Korean'}, {'ali...</td>\n",
       "      <td>4.5</td>\n",
       "      <td>{'latitude': 34.847671, 'longitude': -82.394229}</td>\n",
       "      <td>['pickup', 'delivery']</td>\n",
       "      <td>{'address1': '500 E McBee Ave', 'address2': 'S...</td>\n",
       "      <td>1.864263e+10</td>\n",
       "      <td>(864) 263-3018</td>\n",
       "      <td>3341.861901</td>\n",
       "      <td>NaN</td>\n",
       "      <td>{'latitude': 34.847671</td>\n",
       "      <td>'longitude': -82.394229}</td>\n",
       "      <td>34.847671</td>\n",
       "      <td>-82.394229</td>\n",
       "    </tr>\n",
       "    <tr>\n",
       "      <th>1</th>\n",
       "      <td>RGRk1ioORwm_FIX8PM732Q</td>\n",
       "      <td>konnichiwa-greenville</td>\n",
       "      <td>Konnichiwa</td>\n",
       "      <td>https://s3-media3.fl.yelpcdn.com/bphoto/p47H0_...</td>\n",
       "      <td>False</td>\n",
       "      <td>https://www.yelp.com/biz/konnichiwa-greenville...</td>\n",
       "      <td>70</td>\n",
       "      <td>[{'alias': 'sushi', 'title': 'Sushi Bars'}, {'...</td>\n",
       "      <td>4.1</td>\n",
       "      <td>{'latitude': 34.845952342825115, 'longitude': ...</td>\n",
       "      <td>[]</td>\n",
       "      <td>{'address1': '101 Falls Park Dr', 'address2': ...</td>\n",
       "      <td>1.864252e+10</td>\n",
       "      <td>(864) 252-4436</td>\n",
       "      <td>4184.255183</td>\n",
       "      <td>NaN</td>\n",
       "      <td>{'latitude': 34.845952342825115</td>\n",
       "      <td>'longitude': -82.4034447}</td>\n",
       "      <td>34.845952</td>\n",
       "      <td>-82.403445</td>\n",
       "    </tr>\n",
       "    <tr>\n",
       "      <th>2</th>\n",
       "      <td>7cJxOV-ANX1qLThK3yV96w</td>\n",
       "      <td>otto-izakaya-greenville-4</td>\n",
       "      <td>Otto Izakaya</td>\n",
       "      <td>https://s3-media1.fl.yelpcdn.com/bphoto/TdPhFy...</td>\n",
       "      <td>False</td>\n",
       "      <td>https://www.yelp.com/biz/otto-izakaya-greenvil...</td>\n",
       "      <td>448</td>\n",
       "      <td>[{'alias': 'japanese', 'title': 'Japanese'}, {...</td>\n",
       "      <td>4.2</td>\n",
       "      <td>{'latitude': 34.8228218820722, 'longitude': -8...</td>\n",
       "      <td>['delivery']</td>\n",
       "      <td>{'address1': '15 Market Point Dr', 'address2':...</td>\n",
       "      <td>1.864569e+10</td>\n",
       "      <td>(864) 568-8009</td>\n",
       "      <td>5933.485357</td>\n",
       "      <td>$$</td>\n",
       "      <td>{'latitude': 34.8228218820722</td>\n",
       "      <td>'longitude': -82.3000437297499}</td>\n",
       "      <td>34.822822</td>\n",
       "      <td>-82.300044</td>\n",
       "    </tr>\n",
       "    <tr>\n",
       "      <th>3</th>\n",
       "      <td>zG_XOAFi9Y560WJ1RvghBw</td>\n",
       "      <td>sushi-masa-japanese-restaurant-greenville</td>\n",
       "      <td>Sushi-Masa Japanese Restaurant</td>\n",
       "      <td>https://s3-media1.fl.yelpcdn.com/bphoto/zsRavZ...</td>\n",
       "      <td>False</td>\n",
       "      <td>https://www.yelp.com/biz/sushi-masa-japanese-r...</td>\n",
       "      <td>163</td>\n",
       "      <td>[{'alias': 'sushi', 'title': 'Sushi Bars'}]</td>\n",
       "      <td>4.4</td>\n",
       "      <td>{'latitude': 34.8512725830078, 'longitude': -8...</td>\n",
       "      <td>['delivery']</td>\n",
       "      <td>{'address1': '8590 Pelham Rd', 'address2': 'St...</td>\n",
       "      <td>1.864288e+10</td>\n",
       "      <td>(864) 288-2227</td>\n",
       "      <td>11481.830881</td>\n",
       "      <td>$$</td>\n",
       "      <td>{'latitude': 34.8512725830078</td>\n",
       "      <td>'longitude': -82.2318115234375}</td>\n",
       "      <td>34.851273</td>\n",
       "      <td>-82.231812</td>\n",
       "    </tr>\n",
       "    <tr>\n",
       "      <th>4</th>\n",
       "      <td>Kx1x7Kf6C2gtogQErWSu0A</td>\n",
       "      <td>o-ku-greenville</td>\n",
       "      <td>O-Ku</td>\n",
       "      <td>https://s3-media2.fl.yelpcdn.com/bphoto/7dR0xy...</td>\n",
       "      <td>False</td>\n",
       "      <td>https://www.yelp.com/biz/o-ku-greenville?adjus...</td>\n",
       "      <td>41</td>\n",
       "      <td>[{'alias': 'sushi', 'title': 'Sushi Bars'}, {'...</td>\n",
       "      <td>3.9</td>\n",
       "      <td>{'latitude': 34.847954222223294, 'longitude': ...</td>\n",
       "      <td>[]</td>\n",
       "      <td>{'address1': '30 W Broad St', 'address2': None...</td>\n",
       "      <td>1.864326e+10</td>\n",
       "      <td>(864) 326-4812</td>\n",
       "      <td>3931.009612</td>\n",
       "      <td>NaN</td>\n",
       "      <td>{'latitude': 34.847954222223294</td>\n",
       "      <td>'longitude': -82.40071044533897}</td>\n",
       "      <td>34.847954</td>\n",
       "      <td>-82.400710</td>\n",
       "    </tr>\n",
       "  </tbody>\n",
       "</table>\n",
       "</div>"
      ],
      "text/plain": [
       "                       id                                             alias  \\\n",
       "0  2jXS4oZkMhAONtd2j7L5Yg  chef-21-sushi-burger-and-korean-bbq-greenville-3   \n",
       "1  RGRk1ioORwm_FIX8PM732Q                             konnichiwa-greenville   \n",
       "2  7cJxOV-ANX1qLThK3yV96w                         otto-izakaya-greenville-4   \n",
       "3  zG_XOAFi9Y560WJ1RvghBw         sushi-masa-japanese-restaurant-greenville   \n",
       "4  Kx1x7Kf6C2gtogQErWSu0A                                   o-ku-greenville   \n",
       "\n",
       "                                name  \\\n",
       "0  Chef 21 Sushi Burger & Korean BBQ   \n",
       "1                         Konnichiwa   \n",
       "2                       Otto Izakaya   \n",
       "3     Sushi-Masa Japanese Restaurant   \n",
       "4                               O-Ku   \n",
       "\n",
       "                                           image_url  is_closed  \\\n",
       "0  https://s3-media4.fl.yelpcdn.com/bphoto/DbV4BU...      False   \n",
       "1  https://s3-media3.fl.yelpcdn.com/bphoto/p47H0_...      False   \n",
       "2  https://s3-media1.fl.yelpcdn.com/bphoto/TdPhFy...      False   \n",
       "3  https://s3-media1.fl.yelpcdn.com/bphoto/zsRavZ...      False   \n",
       "4  https://s3-media2.fl.yelpcdn.com/bphoto/7dR0xy...      False   \n",
       "\n",
       "                                                 url  review_count  \\\n",
       "0  https://www.yelp.com/biz/chef-21-sushi-burger-...            37   \n",
       "1  https://www.yelp.com/biz/konnichiwa-greenville...            70   \n",
       "2  https://www.yelp.com/biz/otto-izakaya-greenvil...           448   \n",
       "3  https://www.yelp.com/biz/sushi-masa-japanese-r...           163   \n",
       "4  https://www.yelp.com/biz/o-ku-greenville?adjus...            41   \n",
       "\n",
       "                                          categories  rating  \\\n",
       "0  [{'alias': 'korean', 'title': 'Korean'}, {'ali...     4.5   \n",
       "1  [{'alias': 'sushi', 'title': 'Sushi Bars'}, {'...     4.1   \n",
       "2  [{'alias': 'japanese', 'title': 'Japanese'}, {...     4.2   \n",
       "3        [{'alias': 'sushi', 'title': 'Sushi Bars'}]     4.4   \n",
       "4  [{'alias': 'sushi', 'title': 'Sushi Bars'}, {'...     3.9   \n",
       "\n",
       "                                         coordinates            transactions  \\\n",
       "0   {'latitude': 34.847671, 'longitude': -82.394229}  ['pickup', 'delivery']   \n",
       "1  {'latitude': 34.845952342825115, 'longitude': ...                      []   \n",
       "2  {'latitude': 34.8228218820722, 'longitude': -8...            ['delivery']   \n",
       "3  {'latitude': 34.8512725830078, 'longitude': -8...            ['delivery']   \n",
       "4  {'latitude': 34.847954222223294, 'longitude': ...                      []   \n",
       "\n",
       "                                            location         phone  \\\n",
       "0  {'address1': '500 E McBee Ave', 'address2': 'S...  1.864263e+10   \n",
       "1  {'address1': '101 Falls Park Dr', 'address2': ...  1.864252e+10   \n",
       "2  {'address1': '15 Market Point Dr', 'address2':...  1.864569e+10   \n",
       "3  {'address1': '8590 Pelham Rd', 'address2': 'St...  1.864288e+10   \n",
       "4  {'address1': '30 W Broad St', 'address2': None...  1.864326e+10   \n",
       "\n",
       "    display_phone      distance price                         latitude  \\\n",
       "0  (864) 263-3018   3341.861901   NaN           {'latitude': 34.847671   \n",
       "1  (864) 252-4436   4184.255183   NaN  {'latitude': 34.845952342825115   \n",
       "2  (864) 568-8009   5933.485357    $$    {'latitude': 34.8228218820722   \n",
       "3  (864) 288-2227  11481.830881    $$    {'latitude': 34.8512725830078   \n",
       "4  (864) 326-4812   3931.009612   NaN  {'latitude': 34.847954222223294   \n",
       "\n",
       "                           longitude   latitude  longitude  \n",
       "0           'longitude': -82.394229}  34.847671 -82.394229  \n",
       "1          'longitude': -82.4034447}  34.845952 -82.403445  \n",
       "2    'longitude': -82.3000437297499}  34.822822 -82.300044  \n",
       "3    'longitude': -82.2318115234375}  34.851273 -82.231812  \n",
       "4   'longitude': -82.40071044533897}  34.847954 -82.400710  "
      ]
     },
     "execution_count": 15,
     "metadata": {},
     "output_type": "execute_result"
    }
   ],
   "source": [
    "## use .apply pd.Series to convert a dict to columns => use this code first then check the column names before proceeding with the next code block\n",
    "df = pd.concat([df, df['coordinates'].apply(pd.Series)], axis = 1)\n",
    "df.head()\n",
    "\n",
    "# once you found what's wrong restart and run all then use my code all the way to the end\n",
    "# lat_long = df['coordinates'].apply(lambda x: pd.Series({'latitude1': x['latitude'], 'longitude1': x['longitude']}))\n",
    "# lat_long"
   ]
  },
  {
   "cell_type": "code",
   "execution_count": 16,
   "id": "3a5ce56c",
   "metadata": {},
   "outputs": [
    {
     "data": {
      "text/html": [
       "<div>\n",
       "<style scoped>\n",
       "    .dataframe tbody tr th:only-of-type {\n",
       "        vertical-align: middle;\n",
       "    }\n",
       "\n",
       "    .dataframe tbody tr th {\n",
       "        vertical-align: top;\n",
       "    }\n",
       "\n",
       "    .dataframe thead th {\n",
       "        text-align: right;\n",
       "    }\n",
       "</style>\n",
       "<table border=\"1\" class=\"dataframe\">\n",
       "  <thead>\n",
       "    <tr style=\"text-align: right;\">\n",
       "      <th></th>\n",
       "      <th>latitude1</th>\n",
       "      <th>longitude1</th>\n",
       "    </tr>\n",
       "  </thead>\n",
       "  <tbody>\n",
       "    <tr>\n",
       "      <th>0</th>\n",
       "      <td>34.847671</td>\n",
       "      <td>-82.394229</td>\n",
       "    </tr>\n",
       "    <tr>\n",
       "      <th>1</th>\n",
       "      <td>34.845952</td>\n",
       "      <td>-82.403445</td>\n",
       "    </tr>\n",
       "    <tr>\n",
       "      <th>2</th>\n",
       "      <td>34.822822</td>\n",
       "      <td>-82.300044</td>\n",
       "    </tr>\n",
       "    <tr>\n",
       "      <th>3</th>\n",
       "      <td>34.851273</td>\n",
       "      <td>-82.231812</td>\n",
       "    </tr>\n",
       "    <tr>\n",
       "      <th>4</th>\n",
       "      <td>34.847954</td>\n",
       "      <td>-82.400710</td>\n",
       "    </tr>\n",
       "    <tr>\n",
       "      <th>...</th>\n",
       "      <td>...</td>\n",
       "      <td>...</td>\n",
       "    </tr>\n",
       "    <tr>\n",
       "      <th>105</th>\n",
       "      <td>34.868107</td>\n",
       "      <td>-82.347078</td>\n",
       "    </tr>\n",
       "    <tr>\n",
       "      <th>106</th>\n",
       "      <td>34.849917</td>\n",
       "      <td>-82.333593</td>\n",
       "    </tr>\n",
       "    <tr>\n",
       "      <th>107</th>\n",
       "      <td>34.827974</td>\n",
       "      <td>-82.398701</td>\n",
       "    </tr>\n",
       "    <tr>\n",
       "      <th>108</th>\n",
       "      <td>34.871514</td>\n",
       "      <td>-82.255829</td>\n",
       "    </tr>\n",
       "    <tr>\n",
       "      <th>109</th>\n",
       "      <td>34.780454</td>\n",
       "      <td>-82.310323</td>\n",
       "    </tr>\n",
       "  </tbody>\n",
       "</table>\n",
       "<p>110 rows × 2 columns</p>\n",
       "</div>"
      ],
      "text/plain": [
       "     latitude1  longitude1\n",
       "0    34.847671  -82.394229\n",
       "1    34.845952  -82.403445\n",
       "2    34.822822  -82.300044\n",
       "3    34.851273  -82.231812\n",
       "4    34.847954  -82.400710\n",
       "..         ...         ...\n",
       "105  34.868107  -82.347078\n",
       "106  34.849917  -82.333593\n",
       "107  34.827974  -82.398701\n",
       "108  34.871514  -82.255829\n",
       "109  34.780454  -82.310323\n",
       "\n",
       "[110 rows x 2 columns]"
      ]
     },
     "execution_count": 16,
     "metadata": {},
     "output_type": "execute_result"
    }
   ],
   "source": [
    "# once you found what's wrong restart and run all then use my code all the way to the end\n",
    "lat_long = df['coordinates'].apply(lambda x: pd.Series({'latitude1': x['latitude'], 'longitude1': x['longitude']}))\n",
    "lat_long"
   ]
  },
  {
   "cell_type": "code",
   "execution_count": 17,
   "id": "a09d00b1",
   "metadata": {},
   "outputs": [
    {
     "data": {
      "text/html": [
       "<div>\n",
       "<style scoped>\n",
       "    .dataframe tbody tr th:only-of-type {\n",
       "        vertical-align: middle;\n",
       "    }\n",
       "\n",
       "    .dataframe tbody tr th {\n",
       "        vertical-align: top;\n",
       "    }\n",
       "\n",
       "    .dataframe thead th {\n",
       "        text-align: right;\n",
       "    }\n",
       "</style>\n",
       "<table border=\"1\" class=\"dataframe\">\n",
       "  <thead>\n",
       "    <tr style=\"text-align: right;\">\n",
       "      <th></th>\n",
       "      <th>id</th>\n",
       "      <th>alias</th>\n",
       "      <th>name</th>\n",
       "      <th>image_url</th>\n",
       "      <th>is_closed</th>\n",
       "      <th>url</th>\n",
       "      <th>review_count</th>\n",
       "      <th>categories</th>\n",
       "      <th>rating</th>\n",
       "      <th>coordinates</th>\n",
       "      <th>...</th>\n",
       "      <th>phone</th>\n",
       "      <th>display_phone</th>\n",
       "      <th>distance</th>\n",
       "      <th>price</th>\n",
       "      <th>latitude</th>\n",
       "      <th>longitude</th>\n",
       "      <th>latitude</th>\n",
       "      <th>longitude</th>\n",
       "      <th>latitude1</th>\n",
       "      <th>longitude1</th>\n",
       "    </tr>\n",
       "  </thead>\n",
       "  <tbody>\n",
       "    <tr>\n",
       "      <th>0</th>\n",
       "      <td>2jXS4oZkMhAONtd2j7L5Yg</td>\n",
       "      <td>chef-21-sushi-burger-and-korean-bbq-greenville-3</td>\n",
       "      <td>Chef 21 Sushi Burger &amp; Korean BBQ</td>\n",
       "      <td>https://s3-media4.fl.yelpcdn.com/bphoto/DbV4BU...</td>\n",
       "      <td>False</td>\n",
       "      <td>https://www.yelp.com/biz/chef-21-sushi-burger-...</td>\n",
       "      <td>37</td>\n",
       "      <td>[{'alias': 'korean', 'title': 'Korean'}, {'ali...</td>\n",
       "      <td>4.5</td>\n",
       "      <td>{'latitude': 34.847671, 'longitude': -82.394229}</td>\n",
       "      <td>...</td>\n",
       "      <td>1.864263e+10</td>\n",
       "      <td>(864) 263-3018</td>\n",
       "      <td>3341.861901</td>\n",
       "      <td>NaN</td>\n",
       "      <td>{'latitude': 34.847671</td>\n",
       "      <td>'longitude': -82.394229}</td>\n",
       "      <td>34.847671</td>\n",
       "      <td>-82.394229</td>\n",
       "      <td>34.847671</td>\n",
       "      <td>-82.394229</td>\n",
       "    </tr>\n",
       "    <tr>\n",
       "      <th>1</th>\n",
       "      <td>RGRk1ioORwm_FIX8PM732Q</td>\n",
       "      <td>konnichiwa-greenville</td>\n",
       "      <td>Konnichiwa</td>\n",
       "      <td>https://s3-media3.fl.yelpcdn.com/bphoto/p47H0_...</td>\n",
       "      <td>False</td>\n",
       "      <td>https://www.yelp.com/biz/konnichiwa-greenville...</td>\n",
       "      <td>70</td>\n",
       "      <td>[{'alias': 'sushi', 'title': 'Sushi Bars'}, {'...</td>\n",
       "      <td>4.1</td>\n",
       "      <td>{'latitude': 34.845952342825115, 'longitude': ...</td>\n",
       "      <td>...</td>\n",
       "      <td>1.864252e+10</td>\n",
       "      <td>(864) 252-4436</td>\n",
       "      <td>4184.255183</td>\n",
       "      <td>NaN</td>\n",
       "      <td>{'latitude': 34.845952342825115</td>\n",
       "      <td>'longitude': -82.4034447}</td>\n",
       "      <td>34.845952</td>\n",
       "      <td>-82.403445</td>\n",
       "      <td>34.845952</td>\n",
       "      <td>-82.403445</td>\n",
       "    </tr>\n",
       "    <tr>\n",
       "      <th>2</th>\n",
       "      <td>7cJxOV-ANX1qLThK3yV96w</td>\n",
       "      <td>otto-izakaya-greenville-4</td>\n",
       "      <td>Otto Izakaya</td>\n",
       "      <td>https://s3-media1.fl.yelpcdn.com/bphoto/TdPhFy...</td>\n",
       "      <td>False</td>\n",
       "      <td>https://www.yelp.com/biz/otto-izakaya-greenvil...</td>\n",
       "      <td>448</td>\n",
       "      <td>[{'alias': 'japanese', 'title': 'Japanese'}, {...</td>\n",
       "      <td>4.2</td>\n",
       "      <td>{'latitude': 34.8228218820722, 'longitude': -8...</td>\n",
       "      <td>...</td>\n",
       "      <td>1.864569e+10</td>\n",
       "      <td>(864) 568-8009</td>\n",
       "      <td>5933.485357</td>\n",
       "      <td>$$</td>\n",
       "      <td>{'latitude': 34.8228218820722</td>\n",
       "      <td>'longitude': -82.3000437297499}</td>\n",
       "      <td>34.822822</td>\n",
       "      <td>-82.300044</td>\n",
       "      <td>34.822822</td>\n",
       "      <td>-82.300044</td>\n",
       "    </tr>\n",
       "    <tr>\n",
       "      <th>3</th>\n",
       "      <td>zG_XOAFi9Y560WJ1RvghBw</td>\n",
       "      <td>sushi-masa-japanese-restaurant-greenville</td>\n",
       "      <td>Sushi-Masa Japanese Restaurant</td>\n",
       "      <td>https://s3-media1.fl.yelpcdn.com/bphoto/zsRavZ...</td>\n",
       "      <td>False</td>\n",
       "      <td>https://www.yelp.com/biz/sushi-masa-japanese-r...</td>\n",
       "      <td>163</td>\n",
       "      <td>[{'alias': 'sushi', 'title': 'Sushi Bars'}]</td>\n",
       "      <td>4.4</td>\n",
       "      <td>{'latitude': 34.8512725830078, 'longitude': -8...</td>\n",
       "      <td>...</td>\n",
       "      <td>1.864288e+10</td>\n",
       "      <td>(864) 288-2227</td>\n",
       "      <td>11481.830881</td>\n",
       "      <td>$$</td>\n",
       "      <td>{'latitude': 34.8512725830078</td>\n",
       "      <td>'longitude': -82.2318115234375}</td>\n",
       "      <td>34.851273</td>\n",
       "      <td>-82.231812</td>\n",
       "      <td>34.851273</td>\n",
       "      <td>-82.231812</td>\n",
       "    </tr>\n",
       "    <tr>\n",
       "      <th>4</th>\n",
       "      <td>Kx1x7Kf6C2gtogQErWSu0A</td>\n",
       "      <td>o-ku-greenville</td>\n",
       "      <td>O-Ku</td>\n",
       "      <td>https://s3-media2.fl.yelpcdn.com/bphoto/7dR0xy...</td>\n",
       "      <td>False</td>\n",
       "      <td>https://www.yelp.com/biz/o-ku-greenville?adjus...</td>\n",
       "      <td>41</td>\n",
       "      <td>[{'alias': 'sushi', 'title': 'Sushi Bars'}, {'...</td>\n",
       "      <td>3.9</td>\n",
       "      <td>{'latitude': 34.847954222223294, 'longitude': ...</td>\n",
       "      <td>...</td>\n",
       "      <td>1.864326e+10</td>\n",
       "      <td>(864) 326-4812</td>\n",
       "      <td>3931.009612</td>\n",
       "      <td>NaN</td>\n",
       "      <td>{'latitude': 34.847954222223294</td>\n",
       "      <td>'longitude': -82.40071044533897}</td>\n",
       "      <td>34.847954</td>\n",
       "      <td>-82.400710</td>\n",
       "      <td>34.847954</td>\n",
       "      <td>-82.400710</td>\n",
       "    </tr>\n",
       "  </tbody>\n",
       "</table>\n",
       "<p>5 rows × 22 columns</p>\n",
       "</div>"
      ],
      "text/plain": [
       "                       id                                             alias  \\\n",
       "0  2jXS4oZkMhAONtd2j7L5Yg  chef-21-sushi-burger-and-korean-bbq-greenville-3   \n",
       "1  RGRk1ioORwm_FIX8PM732Q                             konnichiwa-greenville   \n",
       "2  7cJxOV-ANX1qLThK3yV96w                         otto-izakaya-greenville-4   \n",
       "3  zG_XOAFi9Y560WJ1RvghBw         sushi-masa-japanese-restaurant-greenville   \n",
       "4  Kx1x7Kf6C2gtogQErWSu0A                                   o-ku-greenville   \n",
       "\n",
       "                                name  \\\n",
       "0  Chef 21 Sushi Burger & Korean BBQ   \n",
       "1                         Konnichiwa   \n",
       "2                       Otto Izakaya   \n",
       "3     Sushi-Masa Japanese Restaurant   \n",
       "4                               O-Ku   \n",
       "\n",
       "                                           image_url  is_closed  \\\n",
       "0  https://s3-media4.fl.yelpcdn.com/bphoto/DbV4BU...      False   \n",
       "1  https://s3-media3.fl.yelpcdn.com/bphoto/p47H0_...      False   \n",
       "2  https://s3-media1.fl.yelpcdn.com/bphoto/TdPhFy...      False   \n",
       "3  https://s3-media1.fl.yelpcdn.com/bphoto/zsRavZ...      False   \n",
       "4  https://s3-media2.fl.yelpcdn.com/bphoto/7dR0xy...      False   \n",
       "\n",
       "                                                 url  review_count  \\\n",
       "0  https://www.yelp.com/biz/chef-21-sushi-burger-...            37   \n",
       "1  https://www.yelp.com/biz/konnichiwa-greenville...            70   \n",
       "2  https://www.yelp.com/biz/otto-izakaya-greenvil...           448   \n",
       "3  https://www.yelp.com/biz/sushi-masa-japanese-r...           163   \n",
       "4  https://www.yelp.com/biz/o-ku-greenville?adjus...            41   \n",
       "\n",
       "                                          categories  rating  \\\n",
       "0  [{'alias': 'korean', 'title': 'Korean'}, {'ali...     4.5   \n",
       "1  [{'alias': 'sushi', 'title': 'Sushi Bars'}, {'...     4.1   \n",
       "2  [{'alias': 'japanese', 'title': 'Japanese'}, {...     4.2   \n",
       "3        [{'alias': 'sushi', 'title': 'Sushi Bars'}]     4.4   \n",
       "4  [{'alias': 'sushi', 'title': 'Sushi Bars'}, {'...     3.9   \n",
       "\n",
       "                                         coordinates  ...         phone  \\\n",
       "0   {'latitude': 34.847671, 'longitude': -82.394229}  ...  1.864263e+10   \n",
       "1  {'latitude': 34.845952342825115, 'longitude': ...  ...  1.864252e+10   \n",
       "2  {'latitude': 34.8228218820722, 'longitude': -8...  ...  1.864569e+10   \n",
       "3  {'latitude': 34.8512725830078, 'longitude': -8...  ...  1.864288e+10   \n",
       "4  {'latitude': 34.847954222223294, 'longitude': ...  ...  1.864326e+10   \n",
       "\n",
       "    display_phone      distance price                         latitude  \\\n",
       "0  (864) 263-3018   3341.861901   NaN           {'latitude': 34.847671   \n",
       "1  (864) 252-4436   4184.255183   NaN  {'latitude': 34.845952342825115   \n",
       "2  (864) 568-8009   5933.485357    $$    {'latitude': 34.8228218820722   \n",
       "3  (864) 288-2227  11481.830881    $$    {'latitude': 34.8512725830078   \n",
       "4  (864) 326-4812   3931.009612   NaN  {'latitude': 34.847954222223294   \n",
       "\n",
       "                           longitude   latitude  longitude  latitude1  \\\n",
       "0           'longitude': -82.394229}  34.847671 -82.394229  34.847671   \n",
       "1          'longitude': -82.4034447}  34.845952 -82.403445  34.845952   \n",
       "2    'longitude': -82.3000437297499}  34.822822 -82.300044  34.822822   \n",
       "3    'longitude': -82.2318115234375}  34.851273 -82.231812  34.851273   \n",
       "4   'longitude': -82.40071044533897}  34.847954 -82.400710  34.847954   \n",
       "\n",
       "   longitude1  \n",
       "0  -82.394229  \n",
       "1  -82.403445  \n",
       "2  -82.300044  \n",
       "3  -82.231812  \n",
       "4  -82.400710  \n",
       "\n",
       "[5 rows x 22 columns]"
      ]
     },
     "execution_count": 17,
     "metadata": {},
     "output_type": "execute_result"
    }
   ],
   "source": [
    "## Concatenate the 2 new columns and drop the original.\n",
    "df = pd.concat((df, lat_long), axis = 1)\n",
    "df.head()"
   ]
  },
  {
   "cell_type": "code",
   "execution_count": 18,
   "id": "f520ac25",
   "metadata": {},
   "outputs": [
    {
     "data": {
      "text/html": [
       "<div>\n",
       "<style scoped>\n",
       "    .dataframe tbody tr th:only-of-type {\n",
       "        vertical-align: middle;\n",
       "    }\n",
       "\n",
       "    .dataframe tbody tr th {\n",
       "        vertical-align: top;\n",
       "    }\n",
       "\n",
       "    .dataframe thead th {\n",
       "        text-align: right;\n",
       "    }\n",
       "</style>\n",
       "<table border=\"1\" class=\"dataframe\">\n",
       "  <thead>\n",
       "    <tr style=\"text-align: right;\">\n",
       "      <th></th>\n",
       "      <th>id</th>\n",
       "      <th>alias</th>\n",
       "      <th>name</th>\n",
       "      <th>image_url</th>\n",
       "      <th>is_closed</th>\n",
       "      <th>url</th>\n",
       "      <th>review_count</th>\n",
       "      <th>categories</th>\n",
       "      <th>rating</th>\n",
       "      <th>transactions</th>\n",
       "      <th>location</th>\n",
       "      <th>phone</th>\n",
       "      <th>display_phone</th>\n",
       "      <th>distance</th>\n",
       "      <th>price</th>\n",
       "      <th>latitude1</th>\n",
       "      <th>longitude1</th>\n",
       "    </tr>\n",
       "  </thead>\n",
       "  <tbody>\n",
       "    <tr>\n",
       "      <th>0</th>\n",
       "      <td>2jXS4oZkMhAONtd2j7L5Yg</td>\n",
       "      <td>chef-21-sushi-burger-and-korean-bbq-greenville-3</td>\n",
       "      <td>Chef 21 Sushi Burger &amp; Korean BBQ</td>\n",
       "      <td>https://s3-media4.fl.yelpcdn.com/bphoto/DbV4BU...</td>\n",
       "      <td>False</td>\n",
       "      <td>https://www.yelp.com/biz/chef-21-sushi-burger-...</td>\n",
       "      <td>37</td>\n",
       "      <td>[{'alias': 'korean', 'title': 'Korean'}, {'ali...</td>\n",
       "      <td>4.5</td>\n",
       "      <td>['pickup', 'delivery']</td>\n",
       "      <td>{'address1': '500 E McBee Ave', 'address2': 'S...</td>\n",
       "      <td>1.864263e+10</td>\n",
       "      <td>(864) 263-3018</td>\n",
       "      <td>3341.861901</td>\n",
       "      <td>NaN</td>\n",
       "      <td>34.847671</td>\n",
       "      <td>-82.394229</td>\n",
       "    </tr>\n",
       "    <tr>\n",
       "      <th>1</th>\n",
       "      <td>RGRk1ioORwm_FIX8PM732Q</td>\n",
       "      <td>konnichiwa-greenville</td>\n",
       "      <td>Konnichiwa</td>\n",
       "      <td>https://s3-media3.fl.yelpcdn.com/bphoto/p47H0_...</td>\n",
       "      <td>False</td>\n",
       "      <td>https://www.yelp.com/biz/konnichiwa-greenville...</td>\n",
       "      <td>70</td>\n",
       "      <td>[{'alias': 'sushi', 'title': 'Sushi Bars'}, {'...</td>\n",
       "      <td>4.1</td>\n",
       "      <td>[]</td>\n",
       "      <td>{'address1': '101 Falls Park Dr', 'address2': ...</td>\n",
       "      <td>1.864252e+10</td>\n",
       "      <td>(864) 252-4436</td>\n",
       "      <td>4184.255183</td>\n",
       "      <td>NaN</td>\n",
       "      <td>34.845952</td>\n",
       "      <td>-82.403445</td>\n",
       "    </tr>\n",
       "    <tr>\n",
       "      <th>2</th>\n",
       "      <td>7cJxOV-ANX1qLThK3yV96w</td>\n",
       "      <td>otto-izakaya-greenville-4</td>\n",
       "      <td>Otto Izakaya</td>\n",
       "      <td>https://s3-media1.fl.yelpcdn.com/bphoto/TdPhFy...</td>\n",
       "      <td>False</td>\n",
       "      <td>https://www.yelp.com/biz/otto-izakaya-greenvil...</td>\n",
       "      <td>448</td>\n",
       "      <td>[{'alias': 'japanese', 'title': 'Japanese'}, {...</td>\n",
       "      <td>4.2</td>\n",
       "      <td>['delivery']</td>\n",
       "      <td>{'address1': '15 Market Point Dr', 'address2':...</td>\n",
       "      <td>1.864569e+10</td>\n",
       "      <td>(864) 568-8009</td>\n",
       "      <td>5933.485357</td>\n",
       "      <td>$$</td>\n",
       "      <td>34.822822</td>\n",
       "      <td>-82.300044</td>\n",
       "    </tr>\n",
       "    <tr>\n",
       "      <th>3</th>\n",
       "      <td>zG_XOAFi9Y560WJ1RvghBw</td>\n",
       "      <td>sushi-masa-japanese-restaurant-greenville</td>\n",
       "      <td>Sushi-Masa Japanese Restaurant</td>\n",
       "      <td>https://s3-media1.fl.yelpcdn.com/bphoto/zsRavZ...</td>\n",
       "      <td>False</td>\n",
       "      <td>https://www.yelp.com/biz/sushi-masa-japanese-r...</td>\n",
       "      <td>163</td>\n",
       "      <td>[{'alias': 'sushi', 'title': 'Sushi Bars'}]</td>\n",
       "      <td>4.4</td>\n",
       "      <td>['delivery']</td>\n",
       "      <td>{'address1': '8590 Pelham Rd', 'address2': 'St...</td>\n",
       "      <td>1.864288e+10</td>\n",
       "      <td>(864) 288-2227</td>\n",
       "      <td>11481.830881</td>\n",
       "      <td>$$</td>\n",
       "      <td>34.851273</td>\n",
       "      <td>-82.231812</td>\n",
       "    </tr>\n",
       "    <tr>\n",
       "      <th>4</th>\n",
       "      <td>Kx1x7Kf6C2gtogQErWSu0A</td>\n",
       "      <td>o-ku-greenville</td>\n",
       "      <td>O-Ku</td>\n",
       "      <td>https://s3-media2.fl.yelpcdn.com/bphoto/7dR0xy...</td>\n",
       "      <td>False</td>\n",
       "      <td>https://www.yelp.com/biz/o-ku-greenville?adjus...</td>\n",
       "      <td>41</td>\n",
       "      <td>[{'alias': 'sushi', 'title': 'Sushi Bars'}, {'...</td>\n",
       "      <td>3.9</td>\n",
       "      <td>[]</td>\n",
       "      <td>{'address1': '30 W Broad St', 'address2': None...</td>\n",
       "      <td>1.864326e+10</td>\n",
       "      <td>(864) 326-4812</td>\n",
       "      <td>3931.009612</td>\n",
       "      <td>NaN</td>\n",
       "      <td>34.847954</td>\n",
       "      <td>-82.400710</td>\n",
       "    </tr>\n",
       "  </tbody>\n",
       "</table>\n",
       "</div>"
      ],
      "text/plain": [
       "                       id                                             alias  \\\n",
       "0  2jXS4oZkMhAONtd2j7L5Yg  chef-21-sushi-burger-and-korean-bbq-greenville-3   \n",
       "1  RGRk1ioORwm_FIX8PM732Q                             konnichiwa-greenville   \n",
       "2  7cJxOV-ANX1qLThK3yV96w                         otto-izakaya-greenville-4   \n",
       "3  zG_XOAFi9Y560WJ1RvghBw         sushi-masa-japanese-restaurant-greenville   \n",
       "4  Kx1x7Kf6C2gtogQErWSu0A                                   o-ku-greenville   \n",
       "\n",
       "                                name  \\\n",
       "0  Chef 21 Sushi Burger & Korean BBQ   \n",
       "1                         Konnichiwa   \n",
       "2                       Otto Izakaya   \n",
       "3     Sushi-Masa Japanese Restaurant   \n",
       "4                               O-Ku   \n",
       "\n",
       "                                           image_url  is_closed  \\\n",
       "0  https://s3-media4.fl.yelpcdn.com/bphoto/DbV4BU...      False   \n",
       "1  https://s3-media3.fl.yelpcdn.com/bphoto/p47H0_...      False   \n",
       "2  https://s3-media1.fl.yelpcdn.com/bphoto/TdPhFy...      False   \n",
       "3  https://s3-media1.fl.yelpcdn.com/bphoto/zsRavZ...      False   \n",
       "4  https://s3-media2.fl.yelpcdn.com/bphoto/7dR0xy...      False   \n",
       "\n",
       "                                                 url  review_count  \\\n",
       "0  https://www.yelp.com/biz/chef-21-sushi-burger-...            37   \n",
       "1  https://www.yelp.com/biz/konnichiwa-greenville...            70   \n",
       "2  https://www.yelp.com/biz/otto-izakaya-greenvil...           448   \n",
       "3  https://www.yelp.com/biz/sushi-masa-japanese-r...           163   \n",
       "4  https://www.yelp.com/biz/o-ku-greenville?adjus...            41   \n",
       "\n",
       "                                          categories  rating  \\\n",
       "0  [{'alias': 'korean', 'title': 'Korean'}, {'ali...     4.5   \n",
       "1  [{'alias': 'sushi', 'title': 'Sushi Bars'}, {'...     4.1   \n",
       "2  [{'alias': 'japanese', 'title': 'Japanese'}, {...     4.2   \n",
       "3        [{'alias': 'sushi', 'title': 'Sushi Bars'}]     4.4   \n",
       "4  [{'alias': 'sushi', 'title': 'Sushi Bars'}, {'...     3.9   \n",
       "\n",
       "             transactions                                           location  \\\n",
       "0  ['pickup', 'delivery']  {'address1': '500 E McBee Ave', 'address2': 'S...   \n",
       "1                      []  {'address1': '101 Falls Park Dr', 'address2': ...   \n",
       "2            ['delivery']  {'address1': '15 Market Point Dr', 'address2':...   \n",
       "3            ['delivery']  {'address1': '8590 Pelham Rd', 'address2': 'St...   \n",
       "4                      []  {'address1': '30 W Broad St', 'address2': None...   \n",
       "\n",
       "          phone   display_phone      distance price  latitude1  longitude1  \n",
       "0  1.864263e+10  (864) 263-3018   3341.861901   NaN  34.847671  -82.394229  \n",
       "1  1.864252e+10  (864) 252-4436   4184.255183   NaN  34.845952  -82.403445  \n",
       "2  1.864569e+10  (864) 568-8009   5933.485357    $$  34.822822  -82.300044  \n",
       "3  1.864288e+10  (864) 288-2227  11481.830881    $$  34.851273  -82.231812  \n",
       "4  1.864326e+10  (864) 326-4812   3931.009612   NaN  34.847954  -82.400710  "
      ]
     },
     "execution_count": 18,
     "metadata": {},
     "output_type": "execute_result"
    }
   ],
   "source": [
    "# drop original coordinates col\n",
    "df = df.drop(columns = ['coordinates', 'latitude', 'longitude'])\n",
    "df.head()"
   ]
  },
  {
   "cell_type": "code",
   "execution_count": 19,
   "id": "8eded191",
   "metadata": {},
   "outputs": [
    {
     "data": {
      "text/html": [
       "<div>\n",
       "<style scoped>\n",
       "    .dataframe tbody tr th:only-of-type {\n",
       "        vertical-align: middle;\n",
       "    }\n",
       "\n",
       "    .dataframe tbody tr th {\n",
       "        vertical-align: top;\n",
       "    }\n",
       "\n",
       "    .dataframe thead th {\n",
       "        text-align: right;\n",
       "    }\n",
       "</style>\n",
       "<table border=\"1\" class=\"dataframe\">\n",
       "  <thead>\n",
       "    <tr style=\"text-align: right;\">\n",
       "      <th></th>\n",
       "      <th>id</th>\n",
       "      <th>alias</th>\n",
       "      <th>name</th>\n",
       "      <th>image_url</th>\n",
       "      <th>is_closed</th>\n",
       "      <th>url</th>\n",
       "      <th>review_count</th>\n",
       "      <th>categories</th>\n",
       "      <th>rating</th>\n",
       "      <th>transactions</th>\n",
       "      <th>location</th>\n",
       "      <th>phone</th>\n",
       "      <th>display_phone</th>\n",
       "      <th>distance</th>\n",
       "      <th>price</th>\n",
       "      <th>latitude</th>\n",
       "      <th>longitude</th>\n",
       "    </tr>\n",
       "  </thead>\n",
       "  <tbody>\n",
       "    <tr>\n",
       "      <th>0</th>\n",
       "      <td>2jXS4oZkMhAONtd2j7L5Yg</td>\n",
       "      <td>chef-21-sushi-burger-and-korean-bbq-greenville-3</td>\n",
       "      <td>Chef 21 Sushi Burger &amp; Korean BBQ</td>\n",
       "      <td>https://s3-media4.fl.yelpcdn.com/bphoto/DbV4BU...</td>\n",
       "      <td>False</td>\n",
       "      <td>https://www.yelp.com/biz/chef-21-sushi-burger-...</td>\n",
       "      <td>37</td>\n",
       "      <td>[{'alias': 'korean', 'title': 'Korean'}, {'ali...</td>\n",
       "      <td>4.5</td>\n",
       "      <td>['pickup', 'delivery']</td>\n",
       "      <td>{'address1': '500 E McBee Ave', 'address2': 'S...</td>\n",
       "      <td>1.864263e+10</td>\n",
       "      <td>(864) 263-3018</td>\n",
       "      <td>3341.861901</td>\n",
       "      <td>NaN</td>\n",
       "      <td>34.847671</td>\n",
       "      <td>-82.394229</td>\n",
       "    </tr>\n",
       "    <tr>\n",
       "      <th>1</th>\n",
       "      <td>RGRk1ioORwm_FIX8PM732Q</td>\n",
       "      <td>konnichiwa-greenville</td>\n",
       "      <td>Konnichiwa</td>\n",
       "      <td>https://s3-media3.fl.yelpcdn.com/bphoto/p47H0_...</td>\n",
       "      <td>False</td>\n",
       "      <td>https://www.yelp.com/biz/konnichiwa-greenville...</td>\n",
       "      <td>70</td>\n",
       "      <td>[{'alias': 'sushi', 'title': 'Sushi Bars'}, {'...</td>\n",
       "      <td>4.1</td>\n",
       "      <td>[]</td>\n",
       "      <td>{'address1': '101 Falls Park Dr', 'address2': ...</td>\n",
       "      <td>1.864252e+10</td>\n",
       "      <td>(864) 252-4436</td>\n",
       "      <td>4184.255183</td>\n",
       "      <td>NaN</td>\n",
       "      <td>34.845952</td>\n",
       "      <td>-82.403445</td>\n",
       "    </tr>\n",
       "    <tr>\n",
       "      <th>2</th>\n",
       "      <td>7cJxOV-ANX1qLThK3yV96w</td>\n",
       "      <td>otto-izakaya-greenville-4</td>\n",
       "      <td>Otto Izakaya</td>\n",
       "      <td>https://s3-media1.fl.yelpcdn.com/bphoto/TdPhFy...</td>\n",
       "      <td>False</td>\n",
       "      <td>https://www.yelp.com/biz/otto-izakaya-greenvil...</td>\n",
       "      <td>448</td>\n",
       "      <td>[{'alias': 'japanese', 'title': 'Japanese'}, {...</td>\n",
       "      <td>4.2</td>\n",
       "      <td>['delivery']</td>\n",
       "      <td>{'address1': '15 Market Point Dr', 'address2':...</td>\n",
       "      <td>1.864569e+10</td>\n",
       "      <td>(864) 568-8009</td>\n",
       "      <td>5933.485357</td>\n",
       "      <td>$$</td>\n",
       "      <td>34.822822</td>\n",
       "      <td>-82.300044</td>\n",
       "    </tr>\n",
       "    <tr>\n",
       "      <th>3</th>\n",
       "      <td>zG_XOAFi9Y560WJ1RvghBw</td>\n",
       "      <td>sushi-masa-japanese-restaurant-greenville</td>\n",
       "      <td>Sushi-Masa Japanese Restaurant</td>\n",
       "      <td>https://s3-media1.fl.yelpcdn.com/bphoto/zsRavZ...</td>\n",
       "      <td>False</td>\n",
       "      <td>https://www.yelp.com/biz/sushi-masa-japanese-r...</td>\n",
       "      <td>163</td>\n",
       "      <td>[{'alias': 'sushi', 'title': 'Sushi Bars'}]</td>\n",
       "      <td>4.4</td>\n",
       "      <td>['delivery']</td>\n",
       "      <td>{'address1': '8590 Pelham Rd', 'address2': 'St...</td>\n",
       "      <td>1.864288e+10</td>\n",
       "      <td>(864) 288-2227</td>\n",
       "      <td>11481.830881</td>\n",
       "      <td>$$</td>\n",
       "      <td>34.851273</td>\n",
       "      <td>-82.231812</td>\n",
       "    </tr>\n",
       "    <tr>\n",
       "      <th>4</th>\n",
       "      <td>Kx1x7Kf6C2gtogQErWSu0A</td>\n",
       "      <td>o-ku-greenville</td>\n",
       "      <td>O-Ku</td>\n",
       "      <td>https://s3-media2.fl.yelpcdn.com/bphoto/7dR0xy...</td>\n",
       "      <td>False</td>\n",
       "      <td>https://www.yelp.com/biz/o-ku-greenville?adjus...</td>\n",
       "      <td>41</td>\n",
       "      <td>[{'alias': 'sushi', 'title': 'Sushi Bars'}, {'...</td>\n",
       "      <td>3.9</td>\n",
       "      <td>[]</td>\n",
       "      <td>{'address1': '30 W Broad St', 'address2': None...</td>\n",
       "      <td>1.864326e+10</td>\n",
       "      <td>(864) 326-4812</td>\n",
       "      <td>3931.009612</td>\n",
       "      <td>NaN</td>\n",
       "      <td>34.847954</td>\n",
       "      <td>-82.400710</td>\n",
       "    </tr>\n",
       "  </tbody>\n",
       "</table>\n",
       "</div>"
      ],
      "text/plain": [
       "                       id                                             alias  \\\n",
       "0  2jXS4oZkMhAONtd2j7L5Yg  chef-21-sushi-burger-and-korean-bbq-greenville-3   \n",
       "1  RGRk1ioORwm_FIX8PM732Q                             konnichiwa-greenville   \n",
       "2  7cJxOV-ANX1qLThK3yV96w                         otto-izakaya-greenville-4   \n",
       "3  zG_XOAFi9Y560WJ1RvghBw         sushi-masa-japanese-restaurant-greenville   \n",
       "4  Kx1x7Kf6C2gtogQErWSu0A                                   o-ku-greenville   \n",
       "\n",
       "                                name  \\\n",
       "0  Chef 21 Sushi Burger & Korean BBQ   \n",
       "1                         Konnichiwa   \n",
       "2                       Otto Izakaya   \n",
       "3     Sushi-Masa Japanese Restaurant   \n",
       "4                               O-Ku   \n",
       "\n",
       "                                           image_url  is_closed  \\\n",
       "0  https://s3-media4.fl.yelpcdn.com/bphoto/DbV4BU...      False   \n",
       "1  https://s3-media3.fl.yelpcdn.com/bphoto/p47H0_...      False   \n",
       "2  https://s3-media1.fl.yelpcdn.com/bphoto/TdPhFy...      False   \n",
       "3  https://s3-media1.fl.yelpcdn.com/bphoto/zsRavZ...      False   \n",
       "4  https://s3-media2.fl.yelpcdn.com/bphoto/7dR0xy...      False   \n",
       "\n",
       "                                                 url  review_count  \\\n",
       "0  https://www.yelp.com/biz/chef-21-sushi-burger-...            37   \n",
       "1  https://www.yelp.com/biz/konnichiwa-greenville...            70   \n",
       "2  https://www.yelp.com/biz/otto-izakaya-greenvil...           448   \n",
       "3  https://www.yelp.com/biz/sushi-masa-japanese-r...           163   \n",
       "4  https://www.yelp.com/biz/o-ku-greenville?adjus...            41   \n",
       "\n",
       "                                          categories  rating  \\\n",
       "0  [{'alias': 'korean', 'title': 'Korean'}, {'ali...     4.5   \n",
       "1  [{'alias': 'sushi', 'title': 'Sushi Bars'}, {'...     4.1   \n",
       "2  [{'alias': 'japanese', 'title': 'Japanese'}, {...     4.2   \n",
       "3        [{'alias': 'sushi', 'title': 'Sushi Bars'}]     4.4   \n",
       "4  [{'alias': 'sushi', 'title': 'Sushi Bars'}, {'...     3.9   \n",
       "\n",
       "             transactions                                           location  \\\n",
       "0  ['pickup', 'delivery']  {'address1': '500 E McBee Ave', 'address2': 'S...   \n",
       "1                      []  {'address1': '101 Falls Park Dr', 'address2': ...   \n",
       "2            ['delivery']  {'address1': '15 Market Point Dr', 'address2':...   \n",
       "3            ['delivery']  {'address1': '8590 Pelham Rd', 'address2': 'St...   \n",
       "4                      []  {'address1': '30 W Broad St', 'address2': None...   \n",
       "\n",
       "          phone   display_phone      distance price   latitude  longitude  \n",
       "0  1.864263e+10  (864) 263-3018   3341.861901   NaN  34.847671 -82.394229  \n",
       "1  1.864252e+10  (864) 252-4436   4184.255183   NaN  34.845952 -82.403445  \n",
       "2  1.864569e+10  (864) 568-8009   5933.485357    $$  34.822822 -82.300044  \n",
       "3  1.864288e+10  (864) 288-2227  11481.830881    $$  34.851273 -82.231812  \n",
       "4  1.864326e+10  (864) 326-4812   3931.009612   NaN  34.847954 -82.400710  "
      ]
     },
     "execution_count": 19,
     "metadata": {},
     "output_type": "execute_result"
    }
   ],
   "source": [
    "# rename cols 'latitude1', 'longitude1'\n",
    "df.rename(columns = {'latitude1': 'latitude'}, inplace = True)\n",
    "df.rename(columns = {'longitude1': 'longitude'}, inplace = True)\n",
    "\n",
    "# check changes\n",
    "df.head()"
   ]
  },
  {
   "cell_type": "markdown",
   "id": "f02f9483",
   "metadata": {},
   "source": [
    "## Not doing MapBox API exercise because signing up requires my cc"
   ]
  },
  {
   "cell_type": "markdown",
   "id": "56b25f7a",
   "metadata": {},
   "source": [
    "## Creating a Simple Map"
   ]
  },
  {
   "cell_type": "markdown",
   "id": "cd5bc110",
   "metadata": {},
   "source": [
    "### Register for MapBox API"
   ]
  },
  {
   "cell_type": "markdown",
   "id": "73c91d8f",
   "metadata": {},
   "source": [
    "Mapbox API: https://www.mapbox.com/"
   ]
  },
  {
   "cell_type": "code",
   "execution_count": null,
   "id": "2e9b4e94",
   "metadata": {},
   "outputs": [],
   "source": [
    "## Load in mapbox api credentials from .secret\n"
   ]
  },
  {
   "cell_type": "markdown",
   "id": "cdb5689c",
   "metadata": {},
   "source": [
    "- Use the plotly express `set_maptbox_acccess_token` function"
   ]
  },
  {
   "cell_type": "code",
   "execution_count": null,
   "id": "7bf3a1c1",
   "metadata": {},
   "outputs": [],
   "source": [
    "## set mapbox token\n"
   ]
  },
  {
   "cell_type": "code",
   "execution_count": null,
   "id": "2214befe",
   "metadata": {},
   "outputs": [],
   "source": [
    "## use scatter_mapbox for M.V.P map\n"
   ]
  },
  {
   "cell_type": "markdown",
   "id": "d5b72ef0",
   "metadata": {},
   "source": [
    "### Adding Hover Data"
   ]
  },
  {
   "cell_type": "markdown",
   "id": "300eddca",
   "metadata": {},
   "source": [
    "- We want to show the restaurants:\n",
    "    - name\n",
    "    - price range\n",
    "    - address\n",
    "    - and if they do delivery or takeout.\n",
    "    \n",
    "    \n",
    "- We can use the `hover_name` and `hover_data` arguments for `px.scatter_mapbox` to add this info!"
   ]
  },
  {
   "cell_type": "code",
   "execution_count": null,
   "id": "e05e4e1b",
   "metadata": {
    "scrolled": true
   },
   "outputs": [],
   "source": [
    "## add hover_name (name) and hover_data for price,rating,location\n"
   ]
  },
  {
   "cell_type": "markdown",
   "id": "09d744ca",
   "metadata": {},
   "source": [
    "### Fixing the Location Column"
   ]
  },
  {
   "cell_type": "code",
   "execution_count": null,
   "id": "15e6afdc",
   "metadata": {},
   "outputs": [],
   "source": [
    "## slice out a test address\n"
   ]
  },
  {
   "cell_type": "markdown",
   "id": "b573de0f",
   "metadata": {},
   "source": [
    "> Also a string-dictionary..."
   ]
  },
  {
   "cell_type": "code",
   "execution_count": null,
   "id": "e5862a23",
   "metadata": {},
   "outputs": [],
   "source": [
    "## replace ' with \"\n",
    "df['location'] = df['location'].str.replace(\"'\", '\"')\n",
    "df"
   ]
  },
  {
   "cell_type": "code",
   "execution_count": null,
   "id": "1606ed4a",
   "metadata": {},
   "outputs": [],
   "source": [
    "## apply json.loads\n"
   ]
  },
  {
   "cell_type": "markdown",
   "id": "6e3fc5c2",
   "metadata": {},
   "source": [
    "> Ruh roh....\n",
    "\n",
    "- Hmm, let's slice out a test_address again and let's write a function to accomplish this instead.\n",
    "    - We can use try and except in our function to get around the errors."
   ]
  },
  {
   "cell_type": "markdown",
   "id": "b0fe3a7a",
   "metadata": {},
   "source": [
    "### Fixing Addresses - with a custom function\n"
   ]
  },
  {
   "cell_type": "code",
   "execution_count": null,
   "id": "b1964520",
   "metadata": {},
   "outputs": [],
   "source": [
    "## slice out test address \n",
    "test_addr = df.loc[0, 'location']\n",
    "test_addr"
   ]
  },
  {
   "cell_type": "code",
   "execution_count": null,
   "id": "89ee686e",
   "metadata": {},
   "outputs": [],
   "source": [
    "## write a function to just run json.loads on the address\n"
   ]
  },
  {
   "cell_type": "code",
   "execution_count": null,
   "id": "0d25f01b",
   "metadata": {},
   "outputs": [],
   "source": [
    "## test applying our function\n"
   ]
  },
  {
   "cell_type": "markdown",
   "id": "c8cbc436",
   "metadata": {},
   "source": [
    "- It worked! Now let's save this as a new column (display_location),\n",
    "and then let's investigate the businesses that had an \"ERROR\"."
   ]
  },
  {
   "cell_type": "code",
   "execution_count": null,
   "id": "49a511e8",
   "metadata": {},
   "outputs": [],
   "source": [
    "### save a new display_location column using our function\n"
   ]
  },
  {
   "cell_type": "code",
   "execution_count": null,
   "id": "346a2869",
   "metadata": {},
   "outputs": [],
   "source": [
    "## filter for businesses with display_location == \"ERROR\"\n"
   ]
  },
  {
   "cell_type": "code",
   "execution_count": null,
   "id": "9c115199",
   "metadata": {},
   "outputs": [],
   "source": [
    "## slice out a new test address and inspect\n",
    "test_addr = df.loc[437, 'location']\n",
    "test_addr"
   ]
  },
  {
   "cell_type": "markdown",
   "id": "448fa8c6",
   "metadata": {},
   "source": [
    "> After some more investigation, we would find a few issues with these \"ERROR\" rows.\n",
    "1. They contained None.\n",
    "2. They contained an apostrophe in the name.\n",
    "3. ...?"
   ]
  },
  {
   "cell_type": "markdown",
   "id": "68a960d4",
   "metadata": {},
   "source": [
    "### Possible Fixes (if we care to/have the time)\n"
   ]
  },
  {
   "cell_type": "markdown",
   "id": "7c21eda1",
   "metadata": {},
   "source": [
    "- Use Regular Expressions to find an fix the display addresses with \"'\" in them\n",
    "- Use string split to split on the word display address.\n",
    "    - Then use string methods to clean up"
   ]
  },
  {
   "cell_type": "markdown",
   "id": "df8d68fb",
   "metadata": {},
   "source": [
    "### Moving Forward without those rows (for now)"
   ]
  },
  {
   "cell_type": "code",
   "execution_count": null,
   "id": "bddbcc87",
   "metadata": {},
   "outputs": [],
   "source": [
    "## remove any rows where display_location == 'ERROR'\n"
   ]
  },
  {
   "cell_type": "markdown",
   "id": "c1338cd2",
   "metadata": {},
   "source": [
    "- We want the \"display_address\" key from the \"display_location\" dictionaries.\n",
    "- We could use a .apply and a lamda to slice out the desired key."
   ]
  },
  {
   "cell_type": "code",
   "execution_count": null,
   "id": "82544b10",
   "metadata": {},
   "outputs": [],
   "source": [
    "## use apply and lambda to slice correct key\n"
   ]
  },
  {
   "cell_type": "markdown",
   "id": "c65a79ab",
   "metadata": {},
   "source": [
    "- Almost done! We want to convert display_address to a string instead a list of strings.\n",
    "- We can use the string method .join to do so!"
   ]
  },
  {
   "cell_type": "code",
   "execution_count": null,
   "id": "5f64f1dd",
   "metadata": {},
   "outputs": [],
   "source": [
    "## slice out a test_address\n"
   ]
  },
  {
   "cell_type": "code",
   "execution_count": null,
   "id": "876bb98e",
   "metadata": {},
   "outputs": [],
   "source": [
    "## test using .join with a \"\\n\"\n"
   ]
  },
  {
   "cell_type": "code",
   "execution_count": null,
   "id": "55a6176d",
   "metadata": {
    "scrolled": true
   },
   "outputs": [],
   "source": [
    "## apply the join to every row with a lambda\n"
   ]
  },
  {
   "cell_type": "markdown",
   "id": "09b90087",
   "metadata": {},
   "source": [
    "### Final Map"
   ]
  },
  {
   "cell_type": "code",
   "execution_count": null,
   "id": "0afd236d",
   "metadata": {},
   "outputs": [],
   "source": [
    "## make ourn final map and save as varaible\n"
   ]
  },
  {
   "cell_type": "markdown",
   "id": "47e93ee3",
   "metadata": {},
   "source": [
    "#### HTML Uses `<br>` instead of `\\n`"
   ]
  },
  {
   "cell_type": "code",
   "execution_count": null,
   "id": "d2758626",
   "metadata": {},
   "outputs": [],
   "source": [
    "## remake the final address column with <br> instead \n",
    "\n",
    "## plot the final map"
   ]
  },
  {
   "cell_type": "code",
   "execution_count": null,
   "id": "79e43699",
   "metadata": {},
   "outputs": [],
   "source": [
    "## use fig.write_html to save map\n"
   ]
  }
 ],
 "metadata": {
  "kernelspec": {
   "display_name": "Python (dojo-env)",
   "language": "python",
   "name": "dojo-env"
  },
  "language_info": {
   "codemirror_mode": {
    "name": "ipython",
    "version": 3
   },
   "file_extension": ".py",
   "mimetype": "text/x-python",
   "name": "python",
   "nbconvert_exporter": "python",
   "pygments_lexer": "ipython3",
   "version": "3.11.5"
  },
  "toc": {
   "base_numbering": 1,
   "nav_menu": {},
   "number_sections": false,
   "sideBar": true,
   "skip_h1_title": false,
   "title_cell": "Table of Contents",
   "title_sidebar": "Contents",
   "toc_cell": false,
   "toc_position": {
    "height": "calc(100% - 180px)",
    "left": "10px",
    "top": "150px",
    "width": "299.195px"
   },
   "toc_section_display": true,
   "toc_window_display": true
  }
 },
 "nbformat": 4,
 "nbformat_minor": 5
}
