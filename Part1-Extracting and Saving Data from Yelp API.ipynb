{
 "cells": [
  {
   "cell_type": "markdown",
   "metadata": {
    "id": "8guYh-VR7nlX"
   },
   "source": [
    "# Part 1 - Extracting and Saving Data from Yelp API"
   ]
  },
  {
   "cell_type": "markdown",
   "metadata": {},
   "source": [
    "## Obective"
   ]
  },
  {
   "cell_type": "markdown",
   "metadata": {
    "id": "8guYh-VR7nlX"
   },
   "source": [
    "- For this CodeAlong, we will be working with the Yelp API. \n",
    "- You will use the the Yelp API to search your home town for a cuisine type of your choice.\n",
    "- Next class, we will then use Plotly Express to create a map with the Mapbox API to visualize the results.\n",
    "    \n",
    "    "
   ]
  },
  {
   "cell_type": "markdown",
   "metadata": {
    "id": "8guYh-VR7nlX"
   },
   "source": [
    "## Tools You Will Use\n",
    "- Part 1:\n",
    "    - Yelp API:\n",
    "        - Getting Started: \n",
    "            - https://www.yelp.com/developers/documentation/v3/get_started\n",
    "\n",
    "    - `YelpAPI` python package\n",
    "        -  \"YelpAPI\": https://github.com/gfairchild/yelpapi\n",
    "- Part 2:\n",
    "\n",
    "    - Plotly Express: https://plotly.com/python/getting-started/\n",
    "        - With Mapbox API: https://www.mapbox.com/\n",
    "        - `px.scatter_mapbox` [Documentation](https://plotly.com/python/scattermapbox/): \n",
    "\n",
    "\n"
   ]
  },
  {
   "cell_type": "markdown",
   "metadata": {},
   "source": [
    "### Applying Code From\n",
    "- Efficient API Calls Lesson Link: https://login.codingdojo.com/m/376/12529/88078"
   ]
  },
  {
   "cell_type": "code",
   "execution_count": 68,
   "metadata": {},
   "outputs": [],
   "source": [
    "# Standard Imports\n",
    "import numpy as np\n",
    "import pandas as pd\n",
    "import matplotlib.pyplot as plt\n",
    "import seaborn as sns\n",
    "\n",
    "# Additional Imports\n",
    "import os, json, math, time\n",
    "from yelpapi import YelpAPI\n",
    "from tqdm.notebook import tqdm_notebook"
   ]
  },
  {
   "cell_type": "code",
   "execution_count": 61,
   "metadata": {},
   "outputs": [
    {
     "name": "stdout",
     "output_type": "stream",
     "text": [
      "Requirement already satisfied: yelpapi in c:\\users\\bandi\\anaconda3\\lib\\site-packages (2.5.1)\n",
      "Requirement already satisfied: requests in c:\\users\\bandi\\anaconda3\\lib\\site-packages (from yelpapi) (2.31.0)\n",
      "Requirement already satisfied: charset-normalizer<4,>=2 in c:\\users\\bandi\\anaconda3\\lib\\site-packages (from requests->yelpapi) (2.0.4)\n",
      "Requirement already satisfied: idna<4,>=2.5 in c:\\users\\bandi\\anaconda3\\lib\\site-packages (from requests->yelpapi) (3.4)\n",
      "Requirement already satisfied: urllib3<3,>=1.21.1 in c:\\users\\bandi\\anaconda3\\lib\\site-packages (from requests->yelpapi) (1.26.16)\n",
      "Requirement already satisfied: certifi>=2017.4.17 in c:\\users\\bandi\\anaconda3\\lib\\site-packages (from requests->yelpapi) (2023.7.22)\n"
     ]
    }
   ],
   "source": [
    "!pip install yelpapi"
   ]
  },
  {
   "cell_type": "markdown",
   "metadata": {
    "id": "1l3Z-79nBSX9"
   },
   "source": [
    "## 1. Registering for Required APIs"
   ]
  },
  {
   "cell_type": "markdown",
   "metadata": {
    "id": "1l3Z-79nBSX9"
   },
   "source": [
    "\n",
    "- Yelp: https://www.yelp.com/developers/documentation/v3/get_started\n"
   ]
  },
  {
   "cell_type": "markdown",
   "metadata": {},
   "source": [
    "> Check the official API documentation to know what arguments we can search for: https://www.yelp.com/developers/documentation/v3/business_search"
   ]
  },
  {
   "cell_type": "markdown",
   "metadata": {},
   "source": [
    "### Load Credentials and Create Yelp API Object"
   ]
  },
  {
   "cell_type": "code",
   "execution_count": 42,
   "metadata": {},
   "outputs": [],
   "source": [
    "# create a relative filepath\n",
    "relative_path = os.path.join('.secret', 'yelp_api.json')"
   ]
  },
  {
   "cell_type": "code",
   "execution_count": 43,
   "metadata": {
    "ExecuteTime": {
     "end_time": "2022-03-25T18:20:46.629934Z",
     "start_time": "2022-03-25T18:20:45.915864Z"
    },
    "colab": {
     "base_uri": "https://localhost:8080/"
    },
    "id": "xJYqVvNkE36a",
    "outputId": "67798160-dea2-41fc-9040-2b3833efa560"
   },
   "outputs": [
    {
     "name": "stdout",
     "output_type": "stream",
     "text": [
      "dict_keys(['client-id', 'api-key'])\n"
     ]
    }
   ],
   "source": [
    "# Load API Credentials\n",
    "with open(relative_path) as file:\n",
    "    login = json.load(file)\n",
    "\n",
    "print(login.keys())"
   ]
  },
  {
   "cell_type": "code",
   "execution_count": 44,
   "metadata": {},
   "outputs": [
    {
     "name": "stdout",
     "output_type": "stream",
     "text": [
      "dict_keys(['client-id', 'api-key'])\n"
     ]
    }
   ],
   "source": [
    "# alternate method of loading API creadentials\n",
    "# correcting the filename in the path\n",
    "with open(r'C:\\Users\\bandi\\OneDrive\\Documents\\GitHub\\data-enrichment-wk14-activity-mapping-yelp-api-results\\.secret\\yelp_api.json') as file:\n",
    "    login = json.load(file)\n",
    "    \n",
    "# print the keys of the loaded JSON\n",
    "print(login.keys())"
   ]
  },
  {
   "cell_type": "code",
   "execution_count": 45,
   "metadata": {},
   "outputs": [
    {
     "data": {
      "text/plain": [
       "<yelpapi.yelpapi.YelpAPI at 0x14083295710>"
      ]
     },
     "execution_count": 45,
     "metadata": {},
     "output_type": "execute_result"
    }
   ],
   "source": [
    "# Instantiate YelpAPI Variable\n",
    "yelp_api = YelpAPI(login['api-key'], timeout_s = 5.0)\n",
    "yelp_api"
   ]
  },
  {
   "cell_type": "markdown",
   "metadata": {},
   "source": [
    "### Define Search Terms and File Paths"
   ]
  },
  {
   "cell_type": "code",
   "execution_count": 46,
   "metadata": {},
   "outputs": [],
   "source": [
    "# set our API call parameters and filename before the first call\n",
    "LOCATION = 'Greenville, SC'\n",
    "TERM = 'Sushi'"
   ]
  },
  {
   "cell_type": "code",
   "execution_count": 47,
   "metadata": {},
   "outputs": [
    {
     "name": "stdout",
     "output_type": "stream",
     "text": [
      "<class 'dict'>\n"
     ]
    },
    {
     "data": {
      "text/plain": [
       "dict_keys(['businesses', 'total', 'region'])"
      ]
     },
     "execution_count": 47,
     "metadata": {},
     "output_type": "execute_result"
    }
   ],
   "source": [
    "# Quick Test Query\n",
    "results = yelp_api.search_query(location='Baltimore, MD',\n",
    "                                       term='Crab Cake')\n",
    "print(type(results))\n",
    "results.keys()"
   ]
  },
  {
   "cell_type": "code",
   "execution_count": 33,
   "metadata": {},
   "outputs": [],
   "source": [
    "# Specify folder for saving data\n",
    "# folder_path = r\"C:\\Users\\bandi\\OneDrive\\Documents\\GitHub\\data-enrichment-wk14-activity-mapping-yelp-api-results\"\n",
    "\n",
    "# # Specifying JSON_FILE filename (can include a folder) => combine the folder path and filename\n",
    "# JSON_FILE = f'/Data/results_SC_Sushi.json'\n",
    "\n",
    "# print(f'data will be saved to: {JSON_FILE}')"
   ]
  },
  {
   "cell_type": "code",
   "execution_count": 34,
   "metadata": {},
   "outputs": [],
   "source": [
    "# Name the file to save results\n",
    "# JSON_FILE = folder_path\n",
    "# JSON_FILE"
   ]
  },
  {
   "cell_type": "code",
   "execution_count": 48,
   "metadata": {},
   "outputs": [
    {
     "data": {
      "text/plain": [
       "'C:\\\\Users\\\\bandi\\\\OneDrive\\\\Documents\\\\GitHub\\\\data-enrichment-wk14-activity-mapping-yelp-api-results\\\\results_SC_Sushi.json'"
      ]
     },
     "execution_count": 48,
     "metadata": {},
     "output_type": "execute_result"
    }
   ],
   "source": [
    "# Name the file to save results\n",
    "JSON_FILE = r\"C:\\Users\\bandi\\OneDrive\\Documents\\GitHub\\data-enrichment-wk14-activity-mapping-yelp-api-results\\results_SC_Sushi.json\"\n",
    "JSON_FILE"
   ]
  },
  {
   "cell_type": "markdown",
   "metadata": {},
   "source": [
    "### Check if Json File exists and Create it if it doesn't"
   ]
  },
  {
   "cell_type": "code",
   "execution_count": 49,
   "metadata": {},
   "outputs": [
    {
     "name": "stdout",
     "output_type": "stream",
     "text": [
      "[i] C:\\Users\\bandi\\OneDrive\\Documents\\GitHub\\data-enrichment-wk14-activity-mapping-yelp-api-results\\results_SC_Sushi.json already exits.\n"
     ]
    }
   ],
   "source": [
    "## Check if JSON_FILE exists\n",
    "file_exists = os.path.isfile(JSON_FILE)\n",
    "\n",
    "## If it does not exist:\n",
    "if file_exists == False:\n",
    "    \n",
    "    ## CREATE ANY NEEDED FOLDERS\n",
    "    # Get the Folder Name only\n",
    "    folder = os.path.dirname(JSON_FILE)\n",
    "    \n",
    "    ## If JSON_FILE included a folder:\n",
    "    if len(folder) > 0:\n",
    "        # create the folder\n",
    "        os.makedirs(folder, exist_ok = True)\n",
    "        \n",
    "    ## INFORM USER AND SAVE EMPTY LIST\n",
    "    print(f'[i] {JSON_FILE} not found. Saving empty list to file.')\n",
    "    \n",
    "    ## save the first page of results\n",
    "    with open(JSON_FILE, 'w') as file:\n",
    "        json.dump([], file)\n",
    "        \n",
    "## If it exists, inform user\n",
    "else:\n",
    "    print(f'[i] {JSON_FILE} already exits.')"
   ]
  },
  {
   "cell_type": "markdown",
   "metadata": {},
   "source": [
    "### Load JSON FIle and account for previous results"
   ]
  },
  {
   "cell_type": "code",
   "execution_count": 50,
   "metadata": {},
   "outputs": [
    {
     "name": "stdout",
     "output_type": "stream",
     "text": [
      "- 0 previous results found.\n"
     ]
    }
   ],
   "source": [
    "## Load previous results and use len of results for offset\n",
    "with open(JSON_FILE, 'r') as file:\n",
    "    previous_results = json.load(file)\n",
    "    \n",
    "## set offset based on previous results\n",
    "n_results = len(previous_results)\n",
    "\n",
    "print(f'- {n_results} previous results found.')"
   ]
  },
  {
   "cell_type": "markdown",
   "metadata": {},
   "source": [
    "### Make the first API call to get the first page of data"
   ]
  },
  {
   "cell_type": "markdown",
   "metadata": {},
   "source": [
    "- We will use this first result to check:\n",
    "    - how many total results there are?\n",
    "    - Where is the actual data we want to save?\n",
    "    - how many results do we get at a time?\n"
   ]
  },
  {
   "cell_type": "code",
   "execution_count": 51,
   "metadata": {},
   "outputs": [
    {
     "data": {
      "text/plain": [
       "dict_keys(['businesses', 'total', 'region'])"
      ]
     },
     "execution_count": 51,
     "metadata": {},
     "output_type": "execute_result"
    }
   ],
   "source": [
    "# use our yelp_api variable's search_query method to perform our API call\n",
    "results = yelp_api.search_query(location = LOCATION,\n",
    "                                term = TERM,\n",
    "                                offset = n_results)\n",
    "\n",
    "results.keys()"
   ]
  },
  {
   "cell_type": "code",
   "execution_count": 52,
   "metadata": {
    "ExecuteTime": {
     "end_time": "2022-03-24T20:01:48.867510Z",
     "start_time": "2022-03-24T20:01:48.854746Z"
    },
    "colab": {
     "base_uri": "https://localhost:8080/"
    },
    "id": "Myur3i1KGhPf",
    "outputId": "f447c6f9-596b-41d0-ccda-50af0ce82108"
   },
   "outputs": [
    {
     "data": {
      "text/plain": [
       "110"
      ]
     },
     "execution_count": 52,
     "metadata": {},
     "output_type": "execute_result"
    }
   ],
   "source": [
    "## How many results total?\n",
    "total_results = results['total']\n",
    "\n",
    "total_results"
   ]
  },
  {
   "cell_type": "markdown",
   "metadata": {},
   "source": [
    "- Where is the actual data we want to save?"
   ]
  },
  {
   "cell_type": "code",
   "execution_count": 53,
   "metadata": {},
   "outputs": [],
   "source": [
    "business_data = results['businesses']\n",
    "\n",
    "# specify the filename where you want to save the data\n",
    "json_file_path = JSON_FILE\n",
    "\n",
    "# save the business data to a JSON file\n",
    "with open(json_file_path, 'w') as file:\n",
    "    json.dump(business_data, file, indent = 4)"
   ]
  },
  {
   "cell_type": "code",
   "execution_count": 54,
   "metadata": {},
   "outputs": [
    {
     "name": "stdout",
     "output_type": "stream",
     "text": [
      "number of results retrieved per page 20\n"
     ]
    }
   ],
   "source": [
    "## How many did we get the details for?\n",
    "results_per_page = len(business_data)\n",
    "print(f'number of results retrieved per page', results_per_page)"
   ]
  },
  {
   "cell_type": "markdown",
   "metadata": {},
   "source": [
    "- Calculate how many pages of results needed to cover the total_results"
   ]
  },
  {
   "cell_type": "code",
   "execution_count": 55,
   "metadata": {},
   "outputs": [
    {
     "name": "stdout",
     "output_type": "stream",
     "text": [
      "Total number of pages: 6\n"
     ]
    }
   ],
   "source": [
    "# Use math.ceil to round up for the total number of pages of results.\n",
    "n_pages = math.ceil(total_results / results_per_page)\n",
    "\n",
    "print(f'Total number of pages: {n_pages}')"
   ]
  },
  {
   "cell_type": "code",
   "execution_count": 58,
   "metadata": {},
   "outputs": [],
   "source": [
    "# total number of api calls to make as to not exceed call limit\n",
    "results_per_call = len(results['businesses'])\n",
    "\n",
    "# Calculate the total number of iterations needed based on total results and results per call.\n",
    "total_iterations = min(n_pages, math.ceil(total_results / results_per_call))"
   ]
  },
  {
   "cell_type": "code",
   "execution_count": 62,
   "metadata": {},
   "outputs": [
    {
     "data": {
      "application/vnd.jupyter.widget-view+json": {
       "model_id": "adc00bb3e79c4db083aea5d110dda6fa",
       "version_major": 2,
       "version_minor": 0
      },
      "text/plain": [
       "  0%|          | 0/6 [00:00<?, ?it/s]"
      ]
     },
     "metadata": {},
     "output_type": "display_data"
    }
   ],
   "source": [
    "for i in tqdm_notebook(range(1, n_pages + 1)):\n",
    "\n",
    "    ## The block of code we want to TRY to run\n",
    "    try:        \n",
    "        # Introduce a short delay to respect API rate limits\n",
    "        time.sleep(0.2)\n",
    "        \n",
    "        ## Read in results in progress file and check the length\n",
    "        with open(JSON_FILE, 'r') as file:\n",
    "            previous_results = json.load(file)\n",
    "        \n",
    "        ## Save number of results to use as offset\n",
    "        n_results = len(previous_results)\n",
    "        \n",
    "        ## Use n_results as the OFFSET \n",
    "        results = yelp_api.search_query(location = LOCATION,\n",
    "                                        term = TERM,\n",
    "                                        offset = len(previous_results))\n",
    "\n",
    "        ## Append new results and save to file\n",
    "        previous_results.extend(results['businesses'])\n",
    "        with open(JSON_FILE, 'w') as file:\n",
    "            json.dump(previous_results, file)\n",
    "\n",
    "            \n",
    "## What to do if we get an error/exception.\n",
    "    except Exception as e:\n",
    "        # check if we are at rate limit\n",
    "        if 'Too Many Requests for url' in str(e):\n",
    "            print('Rate limit exceeded. Stop data collection.')\n",
    "            break\n",
    "        else:\n",
    "            print(f'an error occured {e}')\n",
    "            # optionally handle error differently\n",
    "            continue"
   ]
  },
  {
   "cell_type": "markdown",
   "metadata": {},
   "source": [
    "## Open the Final JSON File with Pandas"
   ]
  },
  {
   "cell_type": "code",
   "execution_count": 63,
   "metadata": {},
   "outputs": [
    {
     "data": {
      "text/html": [
       "<div>\n",
       "<style scoped>\n",
       "    .dataframe tbody tr th:only-of-type {\n",
       "        vertical-align: middle;\n",
       "    }\n",
       "\n",
       "    .dataframe tbody tr th {\n",
       "        vertical-align: top;\n",
       "    }\n",
       "\n",
       "    .dataframe thead th {\n",
       "        text-align: right;\n",
       "    }\n",
       "</style>\n",
       "<table border=\"1\" class=\"dataframe\">\n",
       "  <thead>\n",
       "    <tr style=\"text-align: right;\">\n",
       "      <th></th>\n",
       "      <th>id</th>\n",
       "      <th>alias</th>\n",
       "      <th>name</th>\n",
       "      <th>image_url</th>\n",
       "      <th>is_closed</th>\n",
       "      <th>url</th>\n",
       "      <th>review_count</th>\n",
       "      <th>categories</th>\n",
       "      <th>rating</th>\n",
       "      <th>coordinates</th>\n",
       "      <th>transactions</th>\n",
       "      <th>location</th>\n",
       "      <th>phone</th>\n",
       "      <th>display_phone</th>\n",
       "      <th>distance</th>\n",
       "      <th>price</th>\n",
       "    </tr>\n",
       "  </thead>\n",
       "  <tbody>\n",
       "    <tr>\n",
       "      <th>0</th>\n",
       "      <td>2jXS4oZkMhAONtd2j7L5Yg</td>\n",
       "      <td>chef-21-sushi-burger-and-korean-bbq-greenville-3</td>\n",
       "      <td>Chef 21 Sushi Burger &amp; Korean BBQ</td>\n",
       "      <td>https://s3-media4.fl.yelpcdn.com/bphoto/DbV4BU...</td>\n",
       "      <td>False</td>\n",
       "      <td>https://www.yelp.com/biz/chef-21-sushi-burger-...</td>\n",
       "      <td>37</td>\n",
       "      <td>[{'alias': 'korean', 'title': 'Korean'}, {'ali...</td>\n",
       "      <td>4.5</td>\n",
       "      <td>{'latitude': 34.847671, 'longitude': -82.394229}</td>\n",
       "      <td>[pickup, delivery]</td>\n",
       "      <td>{'address1': '500 E McBee Ave', 'address2': 'S...</td>\n",
       "      <td>+18642633018</td>\n",
       "      <td>(864) 263-3018</td>\n",
       "      <td>3341.861901</td>\n",
       "      <td>NaN</td>\n",
       "    </tr>\n",
       "    <tr>\n",
       "      <th>1</th>\n",
       "      <td>RGRk1ioORwm_FIX8PM732Q</td>\n",
       "      <td>konnichiwa-greenville</td>\n",
       "      <td>Konnichiwa</td>\n",
       "      <td>https://s3-media3.fl.yelpcdn.com/bphoto/p47H0_...</td>\n",
       "      <td>False</td>\n",
       "      <td>https://www.yelp.com/biz/konnichiwa-greenville...</td>\n",
       "      <td>70</td>\n",
       "      <td>[{'alias': 'sushi', 'title': 'Sushi Bars'}, {'...</td>\n",
       "      <td>4.1</td>\n",
       "      <td>{'latitude': 34.845952342825115, 'longitude': ...</td>\n",
       "      <td>[]</td>\n",
       "      <td>{'address1': '101 Falls Park Dr', 'address2': ...</td>\n",
       "      <td>+18642524436</td>\n",
       "      <td>(864) 252-4436</td>\n",
       "      <td>4184.255183</td>\n",
       "      <td>NaN</td>\n",
       "    </tr>\n",
       "    <tr>\n",
       "      <th>2</th>\n",
       "      <td>7cJxOV-ANX1qLThK3yV96w</td>\n",
       "      <td>otto-izakaya-greenville-4</td>\n",
       "      <td>Otto Izakaya</td>\n",
       "      <td>https://s3-media1.fl.yelpcdn.com/bphoto/TdPhFy...</td>\n",
       "      <td>False</td>\n",
       "      <td>https://www.yelp.com/biz/otto-izakaya-greenvil...</td>\n",
       "      <td>448</td>\n",
       "      <td>[{'alias': 'japanese', 'title': 'Japanese'}, {...</td>\n",
       "      <td>4.2</td>\n",
       "      <td>{'latitude': 34.8228218820722, 'longitude': -8...</td>\n",
       "      <td>[delivery]</td>\n",
       "      <td>{'address1': '15 Market Point Dr', 'address2':...</td>\n",
       "      <td>+18645688009</td>\n",
       "      <td>(864) 568-8009</td>\n",
       "      <td>5933.485357</td>\n",
       "      <td>$$</td>\n",
       "    </tr>\n",
       "    <tr>\n",
       "      <th>3</th>\n",
       "      <td>zG_XOAFi9Y560WJ1RvghBw</td>\n",
       "      <td>sushi-masa-japanese-restaurant-greenville</td>\n",
       "      <td>Sushi-Masa Japanese Restaurant</td>\n",
       "      <td>https://s3-media1.fl.yelpcdn.com/bphoto/zsRavZ...</td>\n",
       "      <td>False</td>\n",
       "      <td>https://www.yelp.com/biz/sushi-masa-japanese-r...</td>\n",
       "      <td>163</td>\n",
       "      <td>[{'alias': 'sushi', 'title': 'Sushi Bars'}]</td>\n",
       "      <td>4.4</td>\n",
       "      <td>{'latitude': 34.8512725830078, 'longitude': -8...</td>\n",
       "      <td>[delivery]</td>\n",
       "      <td>{'address1': '8590 Pelham Rd', 'address2': 'St...</td>\n",
       "      <td>+18642882227</td>\n",
       "      <td>(864) 288-2227</td>\n",
       "      <td>11481.830881</td>\n",
       "      <td>$$</td>\n",
       "    </tr>\n",
       "    <tr>\n",
       "      <th>4</th>\n",
       "      <td>Kx1x7Kf6C2gtogQErWSu0A</td>\n",
       "      <td>o-ku-greenville</td>\n",
       "      <td>O-Ku</td>\n",
       "      <td>https://s3-media2.fl.yelpcdn.com/bphoto/7dR0xy...</td>\n",
       "      <td>False</td>\n",
       "      <td>https://www.yelp.com/biz/o-ku-greenville?adjus...</td>\n",
       "      <td>41</td>\n",
       "      <td>[{'alias': 'sushi', 'title': 'Sushi Bars'}, {'...</td>\n",
       "      <td>3.9</td>\n",
       "      <td>{'latitude': 34.847954222223294, 'longitude': ...</td>\n",
       "      <td>[]</td>\n",
       "      <td>{'address1': '30 W Broad St', 'address2': None...</td>\n",
       "      <td>+18643264812</td>\n",
       "      <td>(864) 326-4812</td>\n",
       "      <td>3931.009612</td>\n",
       "      <td>NaN</td>\n",
       "    </tr>\n",
       "  </tbody>\n",
       "</table>\n",
       "</div>"
      ],
      "text/plain": [
       "                       id                                             alias  \\\n",
       "0  2jXS4oZkMhAONtd2j7L5Yg  chef-21-sushi-burger-and-korean-bbq-greenville-3   \n",
       "1  RGRk1ioORwm_FIX8PM732Q                             konnichiwa-greenville   \n",
       "2  7cJxOV-ANX1qLThK3yV96w                         otto-izakaya-greenville-4   \n",
       "3  zG_XOAFi9Y560WJ1RvghBw         sushi-masa-japanese-restaurant-greenville   \n",
       "4  Kx1x7Kf6C2gtogQErWSu0A                                   o-ku-greenville   \n",
       "\n",
       "                                name  \\\n",
       "0  Chef 21 Sushi Burger & Korean BBQ   \n",
       "1                         Konnichiwa   \n",
       "2                       Otto Izakaya   \n",
       "3     Sushi-Masa Japanese Restaurant   \n",
       "4                               O-Ku   \n",
       "\n",
       "                                           image_url  is_closed  \\\n",
       "0  https://s3-media4.fl.yelpcdn.com/bphoto/DbV4BU...      False   \n",
       "1  https://s3-media3.fl.yelpcdn.com/bphoto/p47H0_...      False   \n",
       "2  https://s3-media1.fl.yelpcdn.com/bphoto/TdPhFy...      False   \n",
       "3  https://s3-media1.fl.yelpcdn.com/bphoto/zsRavZ...      False   \n",
       "4  https://s3-media2.fl.yelpcdn.com/bphoto/7dR0xy...      False   \n",
       "\n",
       "                                                 url  review_count  \\\n",
       "0  https://www.yelp.com/biz/chef-21-sushi-burger-...            37   \n",
       "1  https://www.yelp.com/biz/konnichiwa-greenville...            70   \n",
       "2  https://www.yelp.com/biz/otto-izakaya-greenvil...           448   \n",
       "3  https://www.yelp.com/biz/sushi-masa-japanese-r...           163   \n",
       "4  https://www.yelp.com/biz/o-ku-greenville?adjus...            41   \n",
       "\n",
       "                                          categories  rating  \\\n",
       "0  [{'alias': 'korean', 'title': 'Korean'}, {'ali...     4.5   \n",
       "1  [{'alias': 'sushi', 'title': 'Sushi Bars'}, {'...     4.1   \n",
       "2  [{'alias': 'japanese', 'title': 'Japanese'}, {...     4.2   \n",
       "3        [{'alias': 'sushi', 'title': 'Sushi Bars'}]     4.4   \n",
       "4  [{'alias': 'sushi', 'title': 'Sushi Bars'}, {'...     3.9   \n",
       "\n",
       "                                         coordinates        transactions  \\\n",
       "0   {'latitude': 34.847671, 'longitude': -82.394229}  [pickup, delivery]   \n",
       "1  {'latitude': 34.845952342825115, 'longitude': ...                  []   \n",
       "2  {'latitude': 34.8228218820722, 'longitude': -8...          [delivery]   \n",
       "3  {'latitude': 34.8512725830078, 'longitude': -8...          [delivery]   \n",
       "4  {'latitude': 34.847954222223294, 'longitude': ...                  []   \n",
       "\n",
       "                                            location         phone  \\\n",
       "0  {'address1': '500 E McBee Ave', 'address2': 'S...  +18642633018   \n",
       "1  {'address1': '101 Falls Park Dr', 'address2': ...  +18642524436   \n",
       "2  {'address1': '15 Market Point Dr', 'address2':...  +18645688009   \n",
       "3  {'address1': '8590 Pelham Rd', 'address2': 'St...  +18642882227   \n",
       "4  {'address1': '30 W Broad St', 'address2': None...  +18643264812   \n",
       "\n",
       "    display_phone      distance price  \n",
       "0  (864) 263-3018   3341.861901   NaN  \n",
       "1  (864) 252-4436   4184.255183   NaN  \n",
       "2  (864) 568-8009   5933.485357    $$  \n",
       "3  (864) 288-2227  11481.830881    $$  \n",
       "4  (864) 326-4812   3931.009612   NaN  "
      ]
     },
     "metadata": {},
     "output_type": "display_data"
    },
    {
     "data": {
      "text/html": [
       "<div>\n",
       "<style scoped>\n",
       "    .dataframe tbody tr th:only-of-type {\n",
       "        vertical-align: middle;\n",
       "    }\n",
       "\n",
       "    .dataframe tbody tr th {\n",
       "        vertical-align: top;\n",
       "    }\n",
       "\n",
       "    .dataframe thead th {\n",
       "        text-align: right;\n",
       "    }\n",
       "</style>\n",
       "<table border=\"1\" class=\"dataframe\">\n",
       "  <thead>\n",
       "    <tr style=\"text-align: right;\">\n",
       "      <th></th>\n",
       "      <th>id</th>\n",
       "      <th>alias</th>\n",
       "      <th>name</th>\n",
       "      <th>image_url</th>\n",
       "      <th>is_closed</th>\n",
       "      <th>url</th>\n",
       "      <th>review_count</th>\n",
       "      <th>categories</th>\n",
       "      <th>rating</th>\n",
       "      <th>coordinates</th>\n",
       "      <th>transactions</th>\n",
       "      <th>location</th>\n",
       "      <th>phone</th>\n",
       "      <th>display_phone</th>\n",
       "      <th>distance</th>\n",
       "      <th>price</th>\n",
       "    </tr>\n",
       "  </thead>\n",
       "  <tbody>\n",
       "    <tr>\n",
       "      <th>105</th>\n",
       "      <td>Dz1TrhAHtAiCE8ySrQV4vA</td>\n",
       "      <td>publix-super-markets-greenville-2</td>\n",
       "      <td>Publix Super Markets</td>\n",
       "      <td>https://s3-media3.fl.yelpcdn.com/bphoto/GQkkow...</td>\n",
       "      <td>False</td>\n",
       "      <td>https://www.yelp.com/biz/publix-super-markets-...</td>\n",
       "      <td>24</td>\n",
       "      <td>[{'alias': 'grocery', 'title': 'Grocery'}]</td>\n",
       "      <td>3.6</td>\n",
       "      <td>{'latitude': 34.86810664795167, 'longitude': -...</td>\n",
       "      <td>[]</td>\n",
       "      <td>{'address1': '215 Pelham Rd', 'address2': '', ...</td>\n",
       "      <td>+18643708210</td>\n",
       "      <td>(864) 370-8210</td>\n",
       "      <td>2477.641189</td>\n",
       "      <td>$$</td>\n",
       "    </tr>\n",
       "    <tr>\n",
       "      <th>106</th>\n",
       "      <td>xQZIvcjkH2R14yaHr2qQYQ</td>\n",
       "      <td>the-cheesecake-factory-greenville-2</td>\n",
       "      <td>The Cheesecake Factory</td>\n",
       "      <td>https://s3-media3.fl.yelpcdn.com/bphoto/Wk5Aul...</td>\n",
       "      <td>False</td>\n",
       "      <td>https://www.yelp.com/biz/the-cheesecake-factor...</td>\n",
       "      <td>472</td>\n",
       "      <td>[{'alias': 'desserts', 'title': 'Desserts'}, {...</td>\n",
       "      <td>3.1</td>\n",
       "      <td>{'latitude': 34.8499166, 'longitude': -82.3335...</td>\n",
       "      <td>[delivery]</td>\n",
       "      <td>{'address1': '700 Haywood Mall', 'address2': '...</td>\n",
       "      <td>+18642884444</td>\n",
       "      <td>(864) 288-4444</td>\n",
       "      <td>2209.333296</td>\n",
       "      <td>$$</td>\n",
       "    </tr>\n",
       "    <tr>\n",
       "      <th>107</th>\n",
       "      <td>xb9QSdbk63Ani2-S5MrIHQ</td>\n",
       "      <td>harris-teeter-greenville-6</td>\n",
       "      <td>Harris Teeter</td>\n",
       "      <td>https://s3-media3.fl.yelpcdn.com/bphoto/ZelRSg...</td>\n",
       "      <td>False</td>\n",
       "      <td>https://www.yelp.com/biz/harris-teeter-greenvi...</td>\n",
       "      <td>27</td>\n",
       "      <td>[{'alias': 'grocery', 'title': 'Grocery'}, {'a...</td>\n",
       "      <td>3.6</td>\n",
       "      <td>{'latitude': 34.8279736, 'longitude': -82.3987...</td>\n",
       "      <td>[]</td>\n",
       "      <td>{'address1': '1720 Augusta St', 'address2': ''...</td>\n",
       "      <td>+18649778041</td>\n",
       "      <td>(864) 977-8041</td>\n",
       "      <td>4335.688854</td>\n",
       "      <td>$$</td>\n",
       "    </tr>\n",
       "    <tr>\n",
       "      <th>108</th>\n",
       "      <td>GDPBZJ1tDjmHC3v4uxVQzw</td>\n",
       "      <td>publix-super-market-greer-greer</td>\n",
       "      <td>Publix Super Market - Greer</td>\n",
       "      <td>https://s3-media1.fl.yelpcdn.com/bphoto/BzPvjL...</td>\n",
       "      <td>False</td>\n",
       "      <td>https://www.yelp.com/biz/publix-super-market-g...</td>\n",
       "      <td>17</td>\n",
       "      <td>[{'alias': 'grocery', 'title': 'Grocery'}]</td>\n",
       "      <td>4.1</td>\n",
       "      <td>{'latitude': 34.8715143081717, 'longitude': -8...</td>\n",
       "      <td>[]</td>\n",
       "      <td>{'address1': '411 The Pkwy', 'address2': '', '...</td>\n",
       "      <td>+18648487820</td>\n",
       "      <td>(864) 848-7820</td>\n",
       "      <td>9662.818662</td>\n",
       "      <td>$$</td>\n",
       "    </tr>\n",
       "    <tr>\n",
       "      <th>109</th>\n",
       "      <td>_BLlWxSpx1mRGW9eFutYdQ</td>\n",
       "      <td>dairy-queen-grill-and-chill-mauldin-2</td>\n",
       "      <td>Dairy Queen Grill &amp; Chill</td>\n",
       "      <td>https://s3-media1.fl.yelpcdn.com/bphoto/9AJb5X...</td>\n",
       "      <td>False</td>\n",
       "      <td>https://www.yelp.com/biz/dairy-queen-grill-and...</td>\n",
       "      <td>22</td>\n",
       "      <td>[{'alias': 'hotdogs', 'title': 'Fast Food'}, {...</td>\n",
       "      <td>3.1</td>\n",
       "      <td>{'latitude': 34.780454197801, 'longitude': -82...</td>\n",
       "      <td>[delivery, pickup]</td>\n",
       "      <td>{'address1': '112 N Main St', 'address2': None...</td>\n",
       "      <td>+18643739896</td>\n",
       "      <td>(864) 373-9896</td>\n",
       "      <td>8623.432240</td>\n",
       "      <td>$</td>\n",
       "    </tr>\n",
       "  </tbody>\n",
       "</table>\n",
       "</div>"
      ],
      "text/plain": [
       "                         id                                  alias  \\\n",
       "105  Dz1TrhAHtAiCE8ySrQV4vA      publix-super-markets-greenville-2   \n",
       "106  xQZIvcjkH2R14yaHr2qQYQ    the-cheesecake-factory-greenville-2   \n",
       "107  xb9QSdbk63Ani2-S5MrIHQ             harris-teeter-greenville-6   \n",
       "108  GDPBZJ1tDjmHC3v4uxVQzw        publix-super-market-greer-greer   \n",
       "109  _BLlWxSpx1mRGW9eFutYdQ  dairy-queen-grill-and-chill-mauldin-2   \n",
       "\n",
       "                            name  \\\n",
       "105         Publix Super Markets   \n",
       "106       The Cheesecake Factory   \n",
       "107                Harris Teeter   \n",
       "108  Publix Super Market - Greer   \n",
       "109    Dairy Queen Grill & Chill   \n",
       "\n",
       "                                             image_url  is_closed  \\\n",
       "105  https://s3-media3.fl.yelpcdn.com/bphoto/GQkkow...      False   \n",
       "106  https://s3-media3.fl.yelpcdn.com/bphoto/Wk5Aul...      False   \n",
       "107  https://s3-media3.fl.yelpcdn.com/bphoto/ZelRSg...      False   \n",
       "108  https://s3-media1.fl.yelpcdn.com/bphoto/BzPvjL...      False   \n",
       "109  https://s3-media1.fl.yelpcdn.com/bphoto/9AJb5X...      False   \n",
       "\n",
       "                                                   url  review_count  \\\n",
       "105  https://www.yelp.com/biz/publix-super-markets-...            24   \n",
       "106  https://www.yelp.com/biz/the-cheesecake-factor...           472   \n",
       "107  https://www.yelp.com/biz/harris-teeter-greenvi...            27   \n",
       "108  https://www.yelp.com/biz/publix-super-market-g...            17   \n",
       "109  https://www.yelp.com/biz/dairy-queen-grill-and...            22   \n",
       "\n",
       "                                            categories  rating  \\\n",
       "105         [{'alias': 'grocery', 'title': 'Grocery'}]     3.6   \n",
       "106  [{'alias': 'desserts', 'title': 'Desserts'}, {...     3.1   \n",
       "107  [{'alias': 'grocery', 'title': 'Grocery'}, {'a...     3.6   \n",
       "108         [{'alias': 'grocery', 'title': 'Grocery'}]     4.1   \n",
       "109  [{'alias': 'hotdogs', 'title': 'Fast Food'}, {...     3.1   \n",
       "\n",
       "                                           coordinates        transactions  \\\n",
       "105  {'latitude': 34.86810664795167, 'longitude': -...                  []   \n",
       "106  {'latitude': 34.8499166, 'longitude': -82.3335...          [delivery]   \n",
       "107  {'latitude': 34.8279736, 'longitude': -82.3987...                  []   \n",
       "108  {'latitude': 34.8715143081717, 'longitude': -8...                  []   \n",
       "109  {'latitude': 34.780454197801, 'longitude': -82...  [delivery, pickup]   \n",
       "\n",
       "                                              location         phone  \\\n",
       "105  {'address1': '215 Pelham Rd', 'address2': '', ...  +18643708210   \n",
       "106  {'address1': '700 Haywood Mall', 'address2': '...  +18642884444   \n",
       "107  {'address1': '1720 Augusta St', 'address2': ''...  +18649778041   \n",
       "108  {'address1': '411 The Pkwy', 'address2': '', '...  +18648487820   \n",
       "109  {'address1': '112 N Main St', 'address2': None...  +18643739896   \n",
       "\n",
       "      display_phone     distance price  \n",
       "105  (864) 370-8210  2477.641189    $$  \n",
       "106  (864) 288-4444  2209.333296    $$  \n",
       "107  (864) 977-8041  4335.688854    $$  \n",
       "108  (864) 848-7820  9662.818662    $$  \n",
       "109  (864) 373-9896  8623.432240     $  "
      ]
     },
     "metadata": {},
     "output_type": "display_data"
    }
   ],
   "source": [
    "df = pd.read_json(JSON_FILE)\n",
    "display(df.head(), df.tail())"
   ]
  },
  {
   "cell_type": "code",
   "execution_count": 65,
   "metadata": {},
   "outputs": [
    {
     "data": {
      "text/plain": [
       "0"
      ]
     },
     "execution_count": 65,
     "metadata": {},
     "output_type": "execute_result"
    }
   ],
   "source": [
    "# check for duplicate IDs\n",
    "df.duplicated(subset = 'id').sum()"
   ]
  },
  {
   "cell_type": "code",
   "execution_count": 66,
   "metadata": {},
   "outputs": [
    {
     "data": {
      "text/plain": [
       "'C:\\\\Users\\\\bandi\\\\OneDrive\\\\Documents\\\\GitHub\\\\data-enrichment-wk14-activity-mapping-yelp-api-results\\\\results_SC_Sushi.csv.gz'"
      ]
     },
     "execution_count": 66,
     "metadata": {},
     "output_type": "execute_result"
    }
   ],
   "source": [
    "## convert the filename to a .csv.gz\n",
    "csv_file = JSON_FILE.replace('.json','.csv.gz')\n",
    "csv_file"
   ]
  },
  {
   "cell_type": "markdown",
   "metadata": {},
   "source": [
    "# Creating a Relative File Path"
   ]
  },
  {
   "cell_type": "code",
   "execution_count": 71,
   "metadata": {},
   "outputs": [],
   "source": [
    "# specify directory and filename\n",
    "directory = 'Data'\n",
    "filename = 'final_results_SC_Sushi'\n",
    "path = os.path.join(directory, filename)\n",
    "\n",
    "# ensure that the 'Data' directory exists\n",
    "os.makedirs(directory, exist_ok = True)\n",
    "\n",
    "## save it as a compressed csv (to save space)\n",
    "df.to_csv(path, compression = 'gzip', index = False)"
   ]
  },
  {
   "cell_type": "markdown",
   "metadata": {},
   "source": [
    "# Bonus: compare filesize with os module's `os.path.getsize`"
   ]
  },
  {
   "cell_type": "code",
   "execution_count": 72,
   "metadata": {},
   "outputs": [],
   "source": [
    "# Step 1: Correctly Save the JSON File\n",
    "json_file = 'Data/final_results_SC_Sushi.json'  # Specify the correct JSON file name\n",
    "os.makedirs('Data', exist_ok = True)  # Ensure the Data directory exists\n",
    "df.to_json(json_file, orient = 'records', lines = True)  # Save the DataFrame as JSON\n",
    "\n",
    "# Step 2: Convert and Save as .CSV.GZ\n",
    "csv_gz_file = json_file.replace('.json', '.csv.gz')  # Create the CSV.GZ file name based on the JSON file name\n",
    "df.to_csv(csv_gz_file, compression = 'gzip', index = False)  # Save the DataFrame as compressed CSV"
   ]
  },
  {
   "cell_type": "code",
   "execution_count": 73,
   "metadata": {},
   "outputs": [
    {
     "name": "stdout",
     "output_type": "stream",
     "text": [
      "JSON FILE: 102,226 Bytes\n",
      "CSV.GZ FILE: 16,057 Bytes\n",
      "The csv.gz file is 6.37 times smaller than the JSON file.\n"
     ]
    }
   ],
   "source": [
    "# Step 3: Compare File Sizes\n",
    "if os.path.exists(json_file) and os.path.exists(csv_gz_file):\n",
    "    size_json = os.path.getsize(json_file)\n",
    "    size_csv_gz = os.path.getsize(csv_gz_file)\n",
    "\n",
    "    print(f'JSON FILE: {size_json:,} Bytes')\n",
    "    print(f'CSV.GZ FILE: {size_csv_gz:,} Bytes')\n",
    "\n",
    "    if size_csv_gz > 0:\n",
    "        compression_ratio = size_json / size_csv_gz\n",
    "        print(f'The csv.gz file is {compression_ratio:.2f} times smaller than the JSON file.')\n",
    "    else:\n",
    "        print(\"CSV.GZ file size is 0, cannot compare sizes.\")\n",
    "else:\n",
    "    print(\"One or both files do not exist, check file paths.\")"
   ]
  },
  {
   "cell_type": "markdown",
   "metadata": {},
   "source": [
    "## Next Class: Processing the Results and Mapping "
   ]
  }
 ],
 "metadata": {
  "colab": {
   "collapsed_sections": [],
   "name": "Test Yelp API Package.ipynb",
   "provenance": []
  },
  "kernelspec": {
   "display_name": "Python (dojo-env)",
   "language": "python",
   "name": "dojo-env"
  },
  "language_info": {
   "codemirror_mode": {
    "name": "ipython",
    "version": 3
   },
   "file_extension": ".py",
   "mimetype": "text/x-python",
   "name": "python",
   "nbconvert_exporter": "python",
   "pygments_lexer": "ipython3",
   "version": "3.11.5"
  },
  "toc": {
   "base_numbering": 1,
   "nav_menu": {},
   "number_sections": false,
   "sideBar": true,
   "skip_h1_title": false,
   "title_cell": "Table of Contents",
   "title_sidebar": "Contents",
   "toc_cell": false,
   "toc_position": {},
   "toc_section_display": true,
   "toc_window_display": true
  }
 },
 "nbformat": 4,
 "nbformat_minor": 1
}
